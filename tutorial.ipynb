{
 "cells": [
  {
   "cell_type": "code",
   "execution_count": 1,
   "metadata": {},
   "outputs": [],
   "source": [
    "from BioPandas import pandas as pd"
   ]
  },
  {
   "cell_type": "markdown",
   "metadata": {},
   "source": [
    "# Sample files used"
   ]
  },
  {
   "cell_type": "code",
   "execution_count": 29,
   "metadata": {},
   "outputs": [],
   "source": [
    "gbk = 'test-data/GCF_000013425.1.gbk.gz'\n",
    "fasta = 'test-data/random_sequences.fasta.gz'"
   ]
  },
  {
   "cell_type": "markdown",
   "metadata": {},
   "source": [
    "# Fasta to Pandas DataFrame example"
   ]
  },
  {
   "cell_type": "code",
   "execution_count": 11,
   "metadata": {},
   "outputs": [
    {
     "data": {
      "text/html": [
       "<div>\n",
       "<style scoped>\n",
       "    .dataframe tbody tr th:only-of-type {\n",
       "        vertical-align: middle;\n",
       "    }\n",
       "\n",
       "    .dataframe tbody tr th {\n",
       "        vertical-align: top;\n",
       "    }\n",
       "\n",
       "    .dataframe thead th {\n",
       "        text-align: right;\n",
       "    }\n",
       "</style>\n",
       "<table border=\"1\" class=\"dataframe\">\n",
       "  <thead>\n",
       "    <tr style=\"text-align: right;\">\n",
       "      <th></th>\n",
       "      <th>_per_letter_annotations</th>\n",
       "      <th>_seq</th>\n",
       "      <th>annotations</th>\n",
       "      <th>dbxrefs</th>\n",
       "      <th>description</th>\n",
       "      <th>features</th>\n",
       "      <th>id</th>\n",
       "      <th>name</th>\n",
       "    </tr>\n",
       "  </thead>\n",
       "  <tbody>\n",
       "    <tr>\n",
       "      <th>0</th>\n",
       "      <td>{}</td>\n",
       "      <td>(C, G, A, T, A, T, T, C, G, A, T, C, C, G, C, ...</td>\n",
       "      <td>{}</td>\n",
       "      <td>[]</td>\n",
       "      <td>FWIRNKE01DKIF6 rank=0000177 x=1346.0 y=2772.0 ...</td>\n",
       "      <td>[]</td>\n",
       "      <td>FWIRNKE01DKIF6</td>\n",
       "      <td>FWIRNKE01DKIF6</td>\n",
       "    </tr>\n",
       "    <tr>\n",
       "      <th>1</th>\n",
       "      <td>{}</td>\n",
       "      <td>(G, C, G, A, G, C, A, G, C, A, A, T, C, A, T, ...</td>\n",
       "      <td>{}</td>\n",
       "      <td>[]</td>\n",
       "      <td>FWIRNKE01CDBE3 rank=0000320 x=854.0 y=2685.0 l...</td>\n",
       "      <td>[]</td>\n",
       "      <td>FWIRNKE01CDBE3</td>\n",
       "      <td>FWIRNKE01CDBE3</td>\n",
       "    </tr>\n",
       "    <tr>\n",
       "      <th>2</th>\n",
       "      <td>{}</td>\n",
       "      <td>(C, G, A, G, C, A, G, C, A, C, A, T, C, A, T, ...</td>\n",
       "      <td>{}</td>\n",
       "      <td>[]</td>\n",
       "      <td>FWIRNKE01BKZJJ rank=0000535 x=531.0 y=3933.0 l...</td>\n",
       "      <td>[]</td>\n",
       "      <td>FWIRNKE01BKZJJ</td>\n",
       "      <td>FWIRNKE01BKZJJ</td>\n",
       "    </tr>\n",
       "  </tbody>\n",
       "</table>\n",
       "</div>"
      ],
      "text/plain": [
       "  _per_letter_annotations                                               _seq  \\\n",
       "0                      {}  (C, G, A, T, A, T, T, C, G, A, T, C, C, G, C, ...   \n",
       "1                      {}  (G, C, G, A, G, C, A, G, C, A, A, T, C, A, T, ...   \n",
       "2                      {}  (C, G, A, G, C, A, G, C, A, C, A, T, C, A, T, ...   \n",
       "\n",
       "  annotations dbxrefs                                        description  \\\n",
       "0          {}      []  FWIRNKE01DKIF6 rank=0000177 x=1346.0 y=2772.0 ...   \n",
       "1          {}      []  FWIRNKE01CDBE3 rank=0000320 x=854.0 y=2685.0 l...   \n",
       "2          {}      []  FWIRNKE01BKZJJ rank=0000535 x=531.0 y=3933.0 l...   \n",
       "\n",
       "  features              id            name  \n",
       "0       []  FWIRNKE01DKIF6  FWIRNKE01DKIF6  \n",
       "1       []  FWIRNKE01CDBE3  FWIRNKE01CDBE3  \n",
       "2       []  FWIRNKE01BKZJJ  FWIRNKE01BKZJJ  "
      ]
     },
     "execution_count": 11,
     "metadata": {},
     "output_type": "execute_result"
    }
   ],
   "source": [
    "fasta_df = pd.read_seq(fasta, format='fasta')\n",
    "fasta_df.head(3)"
   ]
  },
  {
   "cell_type": "markdown",
   "metadata": {},
   "source": [
    "# Search description with little effort!"
   ]
  },
  {
   "cell_type": "code",
   "execution_count": 12,
   "metadata": {},
   "outputs": [
    {
     "data": {
      "text/html": [
       "<div>\n",
       "<style scoped>\n",
       "    .dataframe tbody tr th:only-of-type {\n",
       "        vertical-align: middle;\n",
       "    }\n",
       "\n",
       "    .dataframe tbody tr th {\n",
       "        vertical-align: top;\n",
       "    }\n",
       "\n",
       "    .dataframe thead th {\n",
       "        text-align: right;\n",
       "    }\n",
       "</style>\n",
       "<table border=\"1\" class=\"dataframe\">\n",
       "  <thead>\n",
       "    <tr style=\"text-align: right;\">\n",
       "      <th></th>\n",
       "      <th>_per_letter_annotations</th>\n",
       "      <th>_seq</th>\n",
       "      <th>annotations</th>\n",
       "      <th>dbxrefs</th>\n",
       "      <th>description</th>\n",
       "      <th>features</th>\n",
       "      <th>id</th>\n",
       "      <th>name</th>\n",
       "    </tr>\n",
       "  </thead>\n",
       "  <tbody>\n",
       "    <tr>\n",
       "      <th>0</th>\n",
       "      <td>{}</td>\n",
       "      <td>(C, G, A, T, A, T, T, C, G, A, T, C, C, G, C, ...</td>\n",
       "      <td>{}</td>\n",
       "      <td>[]</td>\n",
       "      <td>FWIRNKE01DKIF6 rank=0000177 x=1346.0 y=2772.0 ...</td>\n",
       "      <td>[]</td>\n",
       "      <td>FWIRNKE01DKIF6</td>\n",
       "      <td>FWIRNKE01DKIF6</td>\n",
       "    </tr>\n",
       "  </tbody>\n",
       "</table>\n",
       "</div>"
      ],
      "text/plain": [
       "  _per_letter_annotations                                               _seq  \\\n",
       "0                      {}  (C, G, A, T, A, T, T, C, G, A, T, C, C, G, C, ...   \n",
       "\n",
       "  annotations dbxrefs                                        description  \\\n",
       "0          {}      []  FWIRNKE01DKIF6 rank=0000177 x=1346.0 y=2772.0 ...   \n",
       "\n",
       "  features              id            name  \n",
       "0       []  FWIRNKE01DKIF6  FWIRNKE01DKIF6  "
      ]
     },
     "execution_count": 12,
     "metadata": {},
     "output_type": "execute_result"
    }
   ],
   "source": [
    "# I want all ranks of a certain number \n",
    "fasta_df[fasta_df['description'].str.contains('rank=0000177')]"
   ]
  },
  {
   "cell_type": "markdown",
   "metadata": {},
   "source": [
    "# Better view of the layout for a single row"
   ]
  },
  {
   "cell_type": "code",
   "execution_count": 13,
   "metadata": {},
   "outputs": [
    {
     "data": {
      "text/plain": [
       "[{'_per_letter_annotations': {},\n",
       "  '_seq': Seq('CGATATTCGATCCGCATCGCTGCCCTACCCGTGGAGTGCCTCCCTCGGNGCAG', SingleLetterAlphabet()),\n",
       "  'annotations': {},\n",
       "  'dbxrefs': [],\n",
       "  'description': 'FWIRNKE01DKIF6 rank=0000177 x=1346.0 y=2772.0 length=53',\n",
       "  'features': [],\n",
       "  'id': 'FWIRNKE01DKIF6',\n",
       "  'name': 'FWIRNKE01DKIF6'}]"
      ]
     },
     "execution_count": 13,
     "metadata": {},
     "output_type": "execute_result"
    }
   ],
   "source": [
    "fasta_df.head(1).to_dict('records')"
   ]
  },
  {
   "cell_type": "markdown",
   "metadata": {},
   "source": [
    "# GenBank to Pandas DataFrame example"
   ]
  },
  {
   "cell_type": "code",
   "execution_count": 30,
   "metadata": {},
   "outputs": [
    {
     "data": {
      "text/html": [
       "<div>\n",
       "<style scoped>\n",
       "    .dataframe tbody tr th:only-of-type {\n",
       "        vertical-align: middle;\n",
       "    }\n",
       "\n",
       "    .dataframe tbody tr th {\n",
       "        vertical-align: top;\n",
       "    }\n",
       "\n",
       "    .dataframe thead th {\n",
       "        text-align: right;\n",
       "    }\n",
       "</style>\n",
       "<table border=\"1\" class=\"dataframe\">\n",
       "  <thead>\n",
       "    <tr style=\"text-align: right;\">\n",
       "      <th></th>\n",
       "      <th>EC_number</th>\n",
       "      <th>_per_letter_annotations</th>\n",
       "      <th>_seq</th>\n",
       "      <th>accessions</th>\n",
       "      <th>codon_start</th>\n",
       "      <th>comment</th>\n",
       "      <th>contig</th>\n",
       "      <th>data_file_division</th>\n",
       "      <th>date</th>\n",
       "      <th>db_xref</th>\n",
       "      <th>...</th>\n",
       "      <th>references</th>\n",
       "      <th>sequence_version</th>\n",
       "      <th>source</th>\n",
       "      <th>strain</th>\n",
       "      <th>sub_species</th>\n",
       "      <th>taxonomy</th>\n",
       "      <th>topology</th>\n",
       "      <th>transl_table</th>\n",
       "      <th>translation</th>\n",
       "      <th>type</th>\n",
       "    </tr>\n",
       "  </thead>\n",
       "  <tbody>\n",
       "    <tr>\n",
       "      <th>0</th>\n",
       "      <td>NaN</td>\n",
       "      <td>{}</td>\n",
       "      <td>(C, G, A, T, T, A, A, A, G, A, T, A, G, A, A, ...</td>\n",
       "      <td>[NC_007795]</td>\n",
       "      <td>NaN</td>\n",
       "      <td>REVIEWED REFSEQ: This record has been curated ...</td>\n",
       "      <td>join(CP000253.1:1..2821361)</td>\n",
       "      <td>CON</td>\n",
       "      <td>03-AUG-2016</td>\n",
       "      <td>[taxon:93061]</td>\n",
       "      <td>...</td>\n",
       "      <td>[location: [0:2821361]\\nauthors: Gillaspy,A.F....</td>\n",
       "      <td>1</td>\n",
       "      <td>Staphylococcus aureus subsp. aureus NCTC 8325</td>\n",
       "      <td>[NCTC 8325]</td>\n",
       "      <td>[aureus]</td>\n",
       "      <td>[Bacteria, Firmicutes, Bacilli, Bacillales, St...</td>\n",
       "      <td>circular</td>\n",
       "      <td>NaN</td>\n",
       "      <td>NaN</td>\n",
       "      <td>source</td>\n",
       "    </tr>\n",
       "    <tr>\n",
       "      <th>1</th>\n",
       "      <td>NaN</td>\n",
       "      <td>{}</td>\n",
       "      <td>(C, G, A, T, T, A, A, A, G, A, T, A, G, A, A, ...</td>\n",
       "      <td>[NC_007795]</td>\n",
       "      <td>NaN</td>\n",
       "      <td>REVIEWED REFSEQ: This record has been curated ...</td>\n",
       "      <td>join(CP000253.1:1..2821361)</td>\n",
       "      <td>CON</td>\n",
       "      <td>03-AUG-2016</td>\n",
       "      <td>[GeneID:3919798]</td>\n",
       "      <td>...</td>\n",
       "      <td>[location: [0:2821361]\\nauthors: Gillaspy,A.F....</td>\n",
       "      <td>1</td>\n",
       "      <td>Staphylococcus aureus subsp. aureus NCTC 8325</td>\n",
       "      <td>NaN</td>\n",
       "      <td>NaN</td>\n",
       "      <td>[Bacteria, Firmicutes, Bacilli, Bacillales, St...</td>\n",
       "      <td>circular</td>\n",
       "      <td>NaN</td>\n",
       "      <td>NaN</td>\n",
       "      <td>gene</td>\n",
       "    </tr>\n",
       "    <tr>\n",
       "      <th>2</th>\n",
       "      <td>NaN</td>\n",
       "      <td>{}</td>\n",
       "      <td>(C, G, A, T, T, A, A, A, G, A, T, A, G, A, A, ...</td>\n",
       "      <td>[NC_007795]</td>\n",
       "      <td>[1]</td>\n",
       "      <td>REVIEWED REFSEQ: This record has been curated ...</td>\n",
       "      <td>join(CP000253.1:1..2821361)</td>\n",
       "      <td>CON</td>\n",
       "      <td>03-AUG-2016</td>\n",
       "      <td>[GeneID:3919798]</td>\n",
       "      <td>...</td>\n",
       "      <td>[location: [0:2821361]\\nauthors: Gillaspy,A.F....</td>\n",
       "      <td>1</td>\n",
       "      <td>Staphylococcus aureus subsp. aureus NCTC 8325</td>\n",
       "      <td>NaN</td>\n",
       "      <td>NaN</td>\n",
       "      <td>[Bacteria, Firmicutes, Bacilli, Bacillales, St...</td>\n",
       "      <td>circular</td>\n",
       "      <td>[11]</td>\n",
       "      <td>[MSEKEIWEKVLEIAQEKLSAVSYSTFLKDTELYTIKDGEAIVLSS...</td>\n",
       "      <td>CDS</td>\n",
       "    </tr>\n",
       "  </tbody>\n",
       "</table>\n",
       "<p>3 rows × 38 columns</p>\n",
       "</div>"
      ],
      "text/plain": [
       "  EC_number _per_letter_annotations  \\\n",
       "0       NaN                      {}   \n",
       "1       NaN                      {}   \n",
       "2       NaN                      {}   \n",
       "\n",
       "                                                _seq   accessions codon_start  \\\n",
       "0  (C, G, A, T, T, A, A, A, G, A, T, A, G, A, A, ...  [NC_007795]         NaN   \n",
       "1  (C, G, A, T, T, A, A, A, G, A, T, A, G, A, A, ...  [NC_007795]         NaN   \n",
       "2  (C, G, A, T, T, A, A, A, G, A, T, A, G, A, A, ...  [NC_007795]         [1]   \n",
       "\n",
       "                                             comment  \\\n",
       "0  REVIEWED REFSEQ: This record has been curated ...   \n",
       "1  REVIEWED REFSEQ: This record has been curated ...   \n",
       "2  REVIEWED REFSEQ: This record has been curated ...   \n",
       "\n",
       "                        contig data_file_division         date  \\\n",
       "0  join(CP000253.1:1..2821361)                CON  03-AUG-2016   \n",
       "1  join(CP000253.1:1..2821361)                CON  03-AUG-2016   \n",
       "2  join(CP000253.1:1..2821361)                CON  03-AUG-2016   \n",
       "\n",
       "            db_xref  ...                                         references  \\\n",
       "0     [taxon:93061]  ...  [location: [0:2821361]\\nauthors: Gillaspy,A.F....   \n",
       "1  [GeneID:3919798]  ...  [location: [0:2821361]\\nauthors: Gillaspy,A.F....   \n",
       "2  [GeneID:3919798]  ...  [location: [0:2821361]\\nauthors: Gillaspy,A.F....   \n",
       "\n",
       "  sequence_version                                         source  \\\n",
       "0                1  Staphylococcus aureus subsp. aureus NCTC 8325   \n",
       "1                1  Staphylococcus aureus subsp. aureus NCTC 8325   \n",
       "2                1  Staphylococcus aureus subsp. aureus NCTC 8325   \n",
       "\n",
       "        strain sub_species                                           taxonomy  \\\n",
       "0  [NCTC 8325]    [aureus]  [Bacteria, Firmicutes, Bacilli, Bacillales, St...   \n",
       "1          NaN         NaN  [Bacteria, Firmicutes, Bacilli, Bacillales, St...   \n",
       "2          NaN         NaN  [Bacteria, Firmicutes, Bacilli, Bacillales, St...   \n",
       "\n",
       "   topology transl_table                                        translation  \\\n",
       "0  circular          NaN                                                NaN   \n",
       "1  circular          NaN                                                NaN   \n",
       "2  circular         [11]  [MSEKEIWEKVLEIAQEKLSAVSYSTFLKDTELYTIKDGEAIVLSS...   \n",
       "\n",
       "     type  \n",
       "0  source  \n",
       "1    gene  \n",
       "2     CDS  \n",
       "\n",
       "[3 rows x 38 columns]"
      ]
     },
     "execution_count": 30,
     "metadata": {},
     "output_type": "execute_result"
    }
   ],
   "source": [
    "gbk_df = pd.read_seq(gbk, format='genbank')\n",
    "gbk_df.head(3)"
   ]
  },
  {
   "cell_type": "markdown",
   "metadata": {},
   "source": [
    "# See all the possible columns of meta data"
   ]
  },
  {
   "cell_type": "code",
   "execution_count": 19,
   "metadata": {},
   "outputs": [
    {
     "data": {
      "text/plain": [
       "Index(['_per_letter_annotations', '_seq', 'accessions', 'codon_start',\n",
       "       'collected_by', 'collection_date', 'comment', 'country',\n",
       "       'culture_collection', 'data_file_division', 'date', 'db_xref',\n",
       "       'dbxrefs', 'description', 'gene', 'host', 'id', 'isolation_source',\n",
       "       'keywords', 'lat_lon', 'location', 'locus_tag', 'mol_type',\n",
       "       'molecule_type', 'name', 'ncRNA_class', 'note', 'organism', 'product',\n",
       "       'protein_id', 'references', 'sequence_version', 'source', 'strain',\n",
       "       'structured_comment', 'taxonomy', 'topology', 'transl_table',\n",
       "       'translation', 'type'],\n",
       "      dtype='object')"
      ]
     },
     "execution_count": 19,
     "metadata": {},
     "output_type": "execute_result"
    }
   ],
   "source": [
    "gbk_df.columns"
   ]
  },
  {
   "cell_type": "markdown",
   "metadata": {},
   "source": [
    "# Seach for only rows of type CDS"
   ]
  },
  {
   "cell_type": "code",
   "execution_count": 31,
   "metadata": {},
   "outputs": [
    {
     "name": "stdout",
     "output_type": "stream",
     "text": [
      "Genome has CDS count: (2767, 38)\n",
      "Genome has GENE count: (2872, 38)\n"
     ]
    }
   ],
   "source": [
    "cds = gbk_df[gbk_df.type == 'CDS']\n",
    "gene = gbk_df[gbk_df.type == 'gene']\n",
    "print('Genome has CDS count:', cds.shape)\n",
    "print('Genome has GENE count:', gene.shape)"
   ]
  },
  {
   "cell_type": "code",
   "execution_count": 32,
   "metadata": {},
   "outputs": [
    {
     "data": {
      "text/html": [
       "<div>\n",
       "<style scoped>\n",
       "    .dataframe tbody tr th:only-of-type {\n",
       "        vertical-align: middle;\n",
       "    }\n",
       "\n",
       "    .dataframe tbody tr th {\n",
       "        vertical-align: top;\n",
       "    }\n",
       "\n",
       "    .dataframe thead th {\n",
       "        text-align: right;\n",
       "    }\n",
       "</style>\n",
       "<table border=\"1\" class=\"dataframe\">\n",
       "  <thead>\n",
       "    <tr style=\"text-align: right;\">\n",
       "      <th></th>\n",
       "      <th>EC_number</th>\n",
       "      <th>_per_letter_annotations</th>\n",
       "      <th>_seq</th>\n",
       "      <th>accessions</th>\n",
       "      <th>codon_start</th>\n",
       "      <th>comment</th>\n",
       "      <th>contig</th>\n",
       "      <th>data_file_division</th>\n",
       "      <th>date</th>\n",
       "      <th>db_xref</th>\n",
       "      <th>...</th>\n",
       "      <th>references</th>\n",
       "      <th>sequence_version</th>\n",
       "      <th>source</th>\n",
       "      <th>strain</th>\n",
       "      <th>sub_species</th>\n",
       "      <th>taxonomy</th>\n",
       "      <th>topology</th>\n",
       "      <th>transl_table</th>\n",
       "      <th>translation</th>\n",
       "      <th>type</th>\n",
       "    </tr>\n",
       "  </thead>\n",
       "  <tbody>\n",
       "    <tr>\n",
       "      <th>2</th>\n",
       "      <td>NaN</td>\n",
       "      <td>{}</td>\n",
       "      <td>(C, G, A, T, T, A, A, A, G, A, T, A, G, A, A, ...</td>\n",
       "      <td>[NC_007795]</td>\n",
       "      <td>[1]</td>\n",
       "      <td>REVIEWED REFSEQ: This record has been curated ...</td>\n",
       "      <td>join(CP000253.1:1..2821361)</td>\n",
       "      <td>CON</td>\n",
       "      <td>03-AUG-2016</td>\n",
       "      <td>[GeneID:3919798]</td>\n",
       "      <td>...</td>\n",
       "      <td>[location: [0:2821361]\\nauthors: Gillaspy,A.F....</td>\n",
       "      <td>1</td>\n",
       "      <td>Staphylococcus aureus subsp. aureus NCTC 8325</td>\n",
       "      <td>NaN</td>\n",
       "      <td>NaN</td>\n",
       "      <td>[Bacteria, Firmicutes, Bacilli, Bacillales, St...</td>\n",
       "      <td>circular</td>\n",
       "      <td>[11]</td>\n",
       "      <td>[MSEKEIWEKVLEIAQEKLSAVSYSTFLKDTELYTIKDGEAIVLSS...</td>\n",
       "      <td>CDS</td>\n",
       "    </tr>\n",
       "    <tr>\n",
       "      <th>4</th>\n",
       "      <td>[2.7.7.7]</td>\n",
       "      <td>{}</td>\n",
       "      <td>(C, G, A, T, T, A, A, A, G, A, T, A, G, A, A, ...</td>\n",
       "      <td>[NC_007795]</td>\n",
       "      <td>[1]</td>\n",
       "      <td>REVIEWED REFSEQ: This record has been curated ...</td>\n",
       "      <td>join(CP000253.1:1..2821361)</td>\n",
       "      <td>CON</td>\n",
       "      <td>03-AUG-2016</td>\n",
       "      <td>[GeneID:3919799]</td>\n",
       "      <td>...</td>\n",
       "      <td>[location: [0:2821361]\\nauthors: Gillaspy,A.F....</td>\n",
       "      <td>1</td>\n",
       "      <td>Staphylococcus aureus subsp. aureus NCTC 8325</td>\n",
       "      <td>NaN</td>\n",
       "      <td>NaN</td>\n",
       "      <td>[Bacteria, Firmicutes, Bacilli, Bacillales, St...</td>\n",
       "      <td>circular</td>\n",
       "      <td>[11]</td>\n",
       "      <td>[MMEFTIKRDYFITQLNDTLKAISPRTTLPILTGIKIDAKEHEVIL...</td>\n",
       "      <td>CDS</td>\n",
       "    </tr>\n",
       "    <tr>\n",
       "      <th>6</th>\n",
       "      <td>NaN</td>\n",
       "      <td>{}</td>\n",
       "      <td>(C, G, A, T, T, A, A, A, G, A, T, A, G, A, A, ...</td>\n",
       "      <td>[NC_007795]</td>\n",
       "      <td>[1]</td>\n",
       "      <td>REVIEWED REFSEQ: This record has been curated ...</td>\n",
       "      <td>join(CP000253.1:1..2821361)</td>\n",
       "      <td>CON</td>\n",
       "      <td>03-AUG-2016</td>\n",
       "      <td>[GeneID:3919176]</td>\n",
       "      <td>...</td>\n",
       "      <td>[location: [0:2821361]\\nauthors: Gillaspy,A.F....</td>\n",
       "      <td>1</td>\n",
       "      <td>Staphylococcus aureus subsp. aureus NCTC 8325</td>\n",
       "      <td>NaN</td>\n",
       "      <td>NaN</td>\n",
       "      <td>[Bacteria, Firmicutes, Bacilli, Bacillales, St...</td>\n",
       "      <td>circular</td>\n",
       "      <td>[11]</td>\n",
       "      <td>[MIILVQEVVVEGDINLGQFLKTEGIIESGGQAKWFLQDVEVLING...</td>\n",
       "      <td>CDS</td>\n",
       "    </tr>\n",
       "  </tbody>\n",
       "</table>\n",
       "<p>3 rows × 38 columns</p>\n",
       "</div>"
      ],
      "text/plain": [
       "   EC_number _per_letter_annotations  \\\n",
       "2        NaN                      {}   \n",
       "4  [2.7.7.7]                      {}   \n",
       "6        NaN                      {}   \n",
       "\n",
       "                                                _seq   accessions codon_start  \\\n",
       "2  (C, G, A, T, T, A, A, A, G, A, T, A, G, A, A, ...  [NC_007795]         [1]   \n",
       "4  (C, G, A, T, T, A, A, A, G, A, T, A, G, A, A, ...  [NC_007795]         [1]   \n",
       "6  (C, G, A, T, T, A, A, A, G, A, T, A, G, A, A, ...  [NC_007795]         [1]   \n",
       "\n",
       "                                             comment  \\\n",
       "2  REVIEWED REFSEQ: This record has been curated ...   \n",
       "4  REVIEWED REFSEQ: This record has been curated ...   \n",
       "6  REVIEWED REFSEQ: This record has been curated ...   \n",
       "\n",
       "                        contig data_file_division         date  \\\n",
       "2  join(CP000253.1:1..2821361)                CON  03-AUG-2016   \n",
       "4  join(CP000253.1:1..2821361)                CON  03-AUG-2016   \n",
       "6  join(CP000253.1:1..2821361)                CON  03-AUG-2016   \n",
       "\n",
       "            db_xref  ...                                         references  \\\n",
       "2  [GeneID:3919798]  ...  [location: [0:2821361]\\nauthors: Gillaspy,A.F....   \n",
       "4  [GeneID:3919799]  ...  [location: [0:2821361]\\nauthors: Gillaspy,A.F....   \n",
       "6  [GeneID:3919176]  ...  [location: [0:2821361]\\nauthors: Gillaspy,A.F....   \n",
       "\n",
       "  sequence_version                                         source strain  \\\n",
       "2                1  Staphylococcus aureus subsp. aureus NCTC 8325    NaN   \n",
       "4                1  Staphylococcus aureus subsp. aureus NCTC 8325    NaN   \n",
       "6                1  Staphylococcus aureus subsp. aureus NCTC 8325    NaN   \n",
       "\n",
       "  sub_species                                           taxonomy  topology  \\\n",
       "2         NaN  [Bacteria, Firmicutes, Bacilli, Bacillales, St...  circular   \n",
       "4         NaN  [Bacteria, Firmicutes, Bacilli, Bacillales, St...  circular   \n",
       "6         NaN  [Bacteria, Firmicutes, Bacilli, Bacillales, St...  circular   \n",
       "\n",
       "  transl_table                                        translation type  \n",
       "2         [11]  [MSEKEIWEKVLEIAQEKLSAVSYSTFLKDTELYTIKDGEAIVLSS...  CDS  \n",
       "4         [11]  [MMEFTIKRDYFITQLNDTLKAISPRTTLPILTGIKIDAKEHEVIL...  CDS  \n",
       "6         [11]  [MIILVQEVVVEGDINLGQFLKTEGIIESGGQAKWFLQDVEVLING...  CDS  \n",
       "\n",
       "[3 rows x 38 columns]"
      ]
     },
     "execution_count": 32,
     "metadata": {},
     "output_type": "execute_result"
    }
   ],
   "source": [
    "cds.head(3)"
   ]
  },
  {
   "cell_type": "markdown",
   "metadata": {},
   "source": [
    "# Better view of the layout for a single row"
   ]
  },
  {
   "cell_type": "code",
   "execution_count": 33,
   "metadata": {},
   "outputs": [
    {
     "data": {
      "text/plain": [
       "[{'EC_number': nan,\n",
       "  '_per_letter_annotations': {},\n",
       "  '_seq': Seq('CGATTAAAGATAGAAATACACGATGCGAGCAATCAAATTTCATAACATCACCAT...TAT', IUPACAmbiguousDNA()),\n",
       "  'accessions': ['NC_007795'],\n",
       "  'codon_start': ['1'],\n",
       "  'comment': 'REVIEWED REFSEQ: This record has been curated by NCBI staff. The\\nreference sequence was derived from CP000253.\\nRefSeq Category: Reference Genome\\n            UPR: UniProt Genome\\nStaphylococcus aureus subsp. aureus NCTC 8325 is available from\\nwww.narsa.net.\\nCOMPLETENESS: full length.',\n",
       "  'contig': 'join(CP000253.1:1..2821361)',\n",
       "  'data_file_division': 'CON',\n",
       "  'date': '03-AUG-2016',\n",
       "  'db_xref': ['GeneID:3919798'],\n",
       "  'dbxrefs': ['BioProject:PRJNA57795', 'Assembly:GCF_000013425.1'],\n",
       "  'description': 'Staphylococcus aureus subsp. aureus NCTC 8325 chromosome, complete genome',\n",
       "  'experiment': nan,\n",
       "  'gene': ['dnaA'],\n",
       "  'gene_synonym': nan,\n",
       "  'id': 'NC_007795.1',\n",
       "  'keywords': ['RefSeq'],\n",
       "  'location': FeatureLocation(ExactPosition(516), ExactPosition(1878), strand=1),\n",
       "  'locus_tag': ['SAOUHSC_00001'],\n",
       "  'mol_type': nan,\n",
       "  'molecule_type': 'DNA',\n",
       "  'name': 'NC_007795',\n",
       "  'note': ['binds to the dnaA-box as an ATP-bound complex at the origin of replication during the initiation of chromosomal replication; can also affect transcription of multiple genes including itself.'],\n",
       "  'organism': 'Staphylococcus aureus subsp. aureus NCTC 8325',\n",
       "  'product': ['chromosomal replication initiation protein'],\n",
       "  'protein_id': ['YP_498609.1'],\n",
       "  'pseudo': nan,\n",
       "  'pseudogene': nan,\n",
       "  'references': [Reference(title='The Staphylococcus aureus NCTC8325 Genome', ...),\n",
       "   Reference(title='Direct Submission', ...),\n",
       "   Reference(title='Direct Submission', ...)],\n",
       "  'sequence_version': 1,\n",
       "  'source': 'Staphylococcus aureus subsp. aureus NCTC 8325',\n",
       "  'strain': nan,\n",
       "  'sub_species': nan,\n",
       "  'taxonomy': ['Bacteria',\n",
       "   'Firmicutes',\n",
       "   'Bacilli',\n",
       "   'Bacillales',\n",
       "   'Staphylococcaceae',\n",
       "   'Staphylococcus'],\n",
       "  'topology': 'circular',\n",
       "  'transl_table': ['11'],\n",
       "  'translation': ['MSEKEIWEKVLEIAQEKLSAVSYSTFLKDTELYTIKDGEAIVLSSIPFNANWLNQQYAEIIQAILFDVVGYEVKPHFITTEELANYSNNETATPKETTKPSTETTEDNHVLGREQFNAHNTFDTFVIGPGNRFPHAASLAVAEAPAKAYNPLFIYGGVGLGKTHLMHAIGHHVLDNNPDAKVIYTSSEKFTNEFIKSIRDNEGEAFRERYRNIDVLLIDDIQFIQNKVQTQEEFFYTFNELHQNNKQIVISSDRPPKEIAQLEDRLRSRFEWGLIVDITPPDYETRMAILQKKIEEEKLDIPPEALNYIANQIQSNIRELEGALTRLLAYSQLLGKPITTELTAEALKDIIQAPKSKKITIQDIQKIVGQYYNVRIEDFSAKKRTKSIAYPRQIAMYLSRELTDFSLPKIGEEFGGRDHTTVIHAHEKISKDLKEDPIFKQEVENLEKEIRNV'],\n",
       "  'type': 'CDS'}]"
      ]
     },
     "execution_count": 33,
     "metadata": {},
     "output_type": "execute_result"
    }
   ],
   "source": [
    "cds.head(1).to_dict('records')"
   ]
  },
  {
   "cell_type": "code",
   "execution_count": null,
   "metadata": {},
   "outputs": [],
   "source": [
    "# Lets say we can predict a probability disease if a person has a "
   ]
  },
  {
   "cell_type": "markdown",
   "metadata": {},
   "source": [
    "------"
   ]
  },
  {
   "cell_type": "markdown",
   "metadata": {},
   "source": [
    "# Machine Learning Example Application"
   ]
  },
  {
   "cell_type": "code",
   "execution_count": null,
   "metadata": {},
   "outputs": [],
   "source": []
  },
  {
   "cell_type": "code",
   "execution_count": null,
   "metadata": {},
   "outputs": [],
   "source": [
    "from tensorflow.keras.models import Sequential\n",
    "from tensorflow.keras.layers import Dense \n",
    "from tensorflow.keras.callbacks import EarlyStopping"
   ]
  },
  {
   "cell_type": "code",
   "execution_count": null,
   "metadata": {},
   "outputs": [],
   "source": [
    "X_train, X_test, y_train, y_test = train_test_split(df.iloc[:,1:5], df['status'],\n",
    "                                                    test_size = 0.33, random_state = 100)"
   ]
  },
  {
   "cell_type": "markdown",
   "metadata": {},
   "source": [
    "# Create general sequential model with 4 layers  "
   ]
  },
  {
   "cell_type": "code",
   "execution_count": null,
   "metadata": {},
   "outputs": [],
   "source": [
    "model = Sequential()\n",
    "\n",
    "model.add(Dense(4, activation = 'relu')) # 4 for just random guessing\n",
    "model.add(Dense(4, activation = 'relu'))\n",
    "model.add(Dense(4, activation = 'relu'))\n",
    "model.add(Dense(1)) # just want healthy status; hence final layer is 1\n",
    "\n",
    "model.compile(optimizer='rmsprop', loss='mse') # mean squared error for sanity checking"
   ]
  },
  {
   "cell_type": "code",
   "execution_count": null,
   "metadata": {},
   "outputs": [],
   "source": [
    "early_stop = EarlyStopping(monitor = 'val_loss', patience = 1)\n",
    "model.fit(\n",
    "    x = X_train.astype('float32'), # float32 to save memory and runtime; we dont need 64 bits anyway\n",
    "    y = y_train.astype('float32'), \n",
    "    verbose = 1, # 0 if you dont want to see the print out\n",
    "    epochs = 100, # number of training intervals \n",
    "    # callbacks = [early_stop], # cant used validation set to have an educated stop due to data set being too small :(\n",
    "    # validation_data=(X_test.astype('float32'), y_test.astype('float32')), # data too small to use as a validator\n",
    ")"
   ]
  },
  {
   "cell_type": "markdown",
   "metadata": {},
   "source": [
    "# Check how well your model was built"
   ]
  },
  {
   "cell_type": "code",
   "execution_count": null,
   "metadata": {},
   "outputs": [],
   "source": [
    "loss = pd.DataFrame(model.history.history)\n",
    "loss.plot()"
   ]
  },
  {
   "cell_type": "code",
   "execution_count": null,
   "metadata": {},
   "outputs": [],
   "source": [
    "model # Thats exciting! This is also a word of caution that you can make a model from anything. "
   ]
  },
  {
   "cell_type": "markdown",
   "metadata": {},
   "source": [
    "--------"
   ]
  },
  {
   "cell_type": "markdown",
   "metadata": {},
   "source": [
    "# Extra Notes"
   ]
  },
  {
   "cell_type": "code",
   "execution_count": 10,
   "metadata": {},
   "outputs": [],
   "source": [
    "from Bio.Seq import Seq\n",
    "from Bio.Alphabet import IUPAC"
   ]
  },
  {
   "cell_type": "markdown",
   "metadata": {},
   "source": [
    "# Creating a BioPython seq from scratch"
   ]
  },
  {
   "cell_type": "code",
   "execution_count": 11,
   "metadata": {},
   "outputs": [
    {
     "data": {
      "text/plain": [
       "Seq('ATGCATGATGATGATGATGATAG', SingleLetterAlphabet())"
      ]
     },
     "execution_count": 11,
     "metadata": {},
     "output_type": "execute_result"
    }
   ],
   "source": [
    "seq = Seq('ATGCATGATGATGATGATGATAG', alphabet=IUPAC.Alphabet.single_letter_alphabet)\n",
    "seq"
   ]
  },
  {
   "cell_type": "markdown",
   "metadata": {},
   "source": [
    "## You can create a simple dataframe as such"
   ]
  },
  {
   "cell_type": "code",
   "execution_count": 12,
   "metadata": {},
   "outputs": [
    {
     "data": {
      "text/plain": [
       "0    (A, T, G, C, A, T, G, A, T, G, A, T, G, A, T, ...\n",
       "Name: _seq, dtype: object"
      ]
     },
     "execution_count": 12,
     "metadata": {},
     "output_type": "execute_result"
    }
   ],
   "source": [
    "pd.DataFrame([{'_seq': seq}])._seq "
   ]
  }
 ],
 "metadata": {
  "kernelspec": {
   "display_name": "Python 3",
   "language": "python",
   "name": "python3"
  },
  "language_info": {
   "codemirror_mode": {
    "name": "ipython",
    "version": 3
   },
   "file_extension": ".py",
   "mimetype": "text/x-python",
   "name": "python",
   "nbconvert_exporter": "python",
   "pygments_lexer": "ipython3",
   "version": "3.7.6"
  }
 },
 "nbformat": 4,
 "nbformat_minor": 4
}
