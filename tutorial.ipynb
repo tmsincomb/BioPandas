{
 "cells": [
  {
   "cell_type": "code",
   "execution_count": 5,
   "metadata": {},
   "outputs": [],
   "source": [
    "from BioPandas import pandas as pd\n",
    "from Bio import SeqIO\n",
    "import gzip\n",
    "import numpy as np"
   ]
  },
  {
   "cell_type": "markdown",
   "metadata": {},
   "source": [
    "# Sample files used"
   ]
  },
  {
   "cell_type": "code",
   "execution_count": 7,
   "metadata": {},
   "outputs": [],
   "source": [
    "gbk = 'test-data/GCF_000013425.1.gbk.gz'\n",
    "fasta = 'test-data/random_sequences.fasta.gz'"
   ]
  },
  {
   "cell_type": "markdown",
   "metadata": {},
   "source": [
    "# Fasta to Pandas DataFrame example"
   ]
  },
  {
   "cell_type": "code",
   "execution_count": 11,
   "metadata": {},
   "outputs": [
    {
     "data": {
      "text/html": [
       "<div>\n",
       "<style scoped>\n",
       "    .dataframe tbody tr th:only-of-type {\n",
       "        vertical-align: middle;\n",
       "    }\n",
       "\n",
       "    .dataframe tbody tr th {\n",
       "        vertical-align: top;\n",
       "    }\n",
       "\n",
       "    .dataframe thead th {\n",
       "        text-align: right;\n",
       "    }\n",
       "</style>\n",
       "<table border=\"1\" class=\"dataframe\">\n",
       "  <thead>\n",
       "    <tr style=\"text-align: right;\">\n",
       "      <th></th>\n",
       "      <th>_per_letter_annotations</th>\n",
       "      <th>_seq</th>\n",
       "      <th>annotations</th>\n",
       "      <th>dbxrefs</th>\n",
       "      <th>description</th>\n",
       "      <th>features</th>\n",
       "      <th>id</th>\n",
       "      <th>name</th>\n",
       "    </tr>\n",
       "  </thead>\n",
       "  <tbody>\n",
       "    <tr>\n",
       "      <th>0</th>\n",
       "      <td>{}</td>\n",
       "      <td>(C, G, A, T, A, T, T, C, G, A, T, C, C, G, C, ...</td>\n",
       "      <td>{}</td>\n",
       "      <td>[]</td>\n",
       "      <td>FWIRNKE01DKIF6 rank=0000177 x=1346.0 y=2772.0 ...</td>\n",
       "      <td>[]</td>\n",
       "      <td>FWIRNKE01DKIF6</td>\n",
       "      <td>FWIRNKE01DKIF6</td>\n",
       "    </tr>\n",
       "    <tr>\n",
       "      <th>1</th>\n",
       "      <td>{}</td>\n",
       "      <td>(G, C, G, A, G, C, A, G, C, A, A, T, C, A, T, ...</td>\n",
       "      <td>{}</td>\n",
       "      <td>[]</td>\n",
       "      <td>FWIRNKE01CDBE3 rank=0000320 x=854.0 y=2685.0 l...</td>\n",
       "      <td>[]</td>\n",
       "      <td>FWIRNKE01CDBE3</td>\n",
       "      <td>FWIRNKE01CDBE3</td>\n",
       "    </tr>\n",
       "    <tr>\n",
       "      <th>2</th>\n",
       "      <td>{}</td>\n",
       "      <td>(C, G, A, G, C, A, G, C, A, C, A, T, C, A, T, ...</td>\n",
       "      <td>{}</td>\n",
       "      <td>[]</td>\n",
       "      <td>FWIRNKE01BKZJJ rank=0000535 x=531.0 y=3933.0 l...</td>\n",
       "      <td>[]</td>\n",
       "      <td>FWIRNKE01BKZJJ</td>\n",
       "      <td>FWIRNKE01BKZJJ</td>\n",
       "    </tr>\n",
       "  </tbody>\n",
       "</table>\n",
       "</div>"
      ],
      "text/plain": [
       "  _per_letter_annotations                                               _seq  \\\n",
       "0                      {}  (C, G, A, T, A, T, T, C, G, A, T, C, C, G, C, ...   \n",
       "1                      {}  (G, C, G, A, G, C, A, G, C, A, A, T, C, A, T, ...   \n",
       "2                      {}  (C, G, A, G, C, A, G, C, A, C, A, T, C, A, T, ...   \n",
       "\n",
       "  annotations dbxrefs                                        description  \\\n",
       "0          {}      []  FWIRNKE01DKIF6 rank=0000177 x=1346.0 y=2772.0 ...   \n",
       "1          {}      []  FWIRNKE01CDBE3 rank=0000320 x=854.0 y=2685.0 l...   \n",
       "2          {}      []  FWIRNKE01BKZJJ rank=0000535 x=531.0 y=3933.0 l...   \n",
       "\n",
       "  features              id            name  \n",
       "0       []  FWIRNKE01DKIF6  FWIRNKE01DKIF6  \n",
       "1       []  FWIRNKE01CDBE3  FWIRNKE01CDBE3  \n",
       "2       []  FWIRNKE01BKZJJ  FWIRNKE01BKZJJ  "
      ]
     },
     "execution_count": 11,
     "metadata": {},
     "output_type": "execute_result"
    }
   ],
   "source": [
    "fasta_df = pd.read_seq(fasta, format='fasta')\n",
    "fasta_df.head(3)"
   ]
  },
  {
   "cell_type": "markdown",
   "metadata": {},
   "source": [
    "# You can also import seqrecords directly from BioPythons parsing output."
   ]
  },
  {
   "cell_type": "code",
   "execution_count": 5,
   "metadata": {},
   "outputs": [
    {
     "data": {
      "text/html": [
       "<div>\n",
       "<style scoped>\n",
       "    .dataframe tbody tr th:only-of-type {\n",
       "        vertical-align: middle;\n",
       "    }\n",
       "\n",
       "    .dataframe tbody tr th {\n",
       "        vertical-align: top;\n",
       "    }\n",
       "\n",
       "    .dataframe thead th {\n",
       "        text-align: right;\n",
       "    }\n",
       "</style>\n",
       "<table border=\"1\" class=\"dataframe\">\n",
       "  <thead>\n",
       "    <tr style=\"text-align: right;\">\n",
       "      <th></th>\n",
       "      <th>_per_letter_annotations</th>\n",
       "      <th>_seq</th>\n",
       "      <th>annotations</th>\n",
       "      <th>dbxrefs</th>\n",
       "      <th>description</th>\n",
       "      <th>features</th>\n",
       "      <th>id</th>\n",
       "      <th>name</th>\n",
       "    </tr>\n",
       "  </thead>\n",
       "  <tbody>\n",
       "    <tr>\n",
       "      <th>0</th>\n",
       "      <td>{}</td>\n",
       "      <td>(C, G, A, T, A, T, T, C, G, A, T, C, C, G, C, ...</td>\n",
       "      <td>{}</td>\n",
       "      <td>[]</td>\n",
       "      <td>FWIRNKE01DKIF6 rank=0000177 x=1346.0 y=2772.0 ...</td>\n",
       "      <td>[]</td>\n",
       "      <td>FWIRNKE01DKIF6</td>\n",
       "      <td>FWIRNKE01DKIF6</td>\n",
       "    </tr>\n",
       "    <tr>\n",
       "      <th>1</th>\n",
       "      <td>{}</td>\n",
       "      <td>(G, C, G, A, G, C, A, G, C, A, A, T, C, A, T, ...</td>\n",
       "      <td>{}</td>\n",
       "      <td>[]</td>\n",
       "      <td>FWIRNKE01CDBE3 rank=0000320 x=854.0 y=2685.0 l...</td>\n",
       "      <td>[]</td>\n",
       "      <td>FWIRNKE01CDBE3</td>\n",
       "      <td>FWIRNKE01CDBE3</td>\n",
       "    </tr>\n",
       "    <tr>\n",
       "      <th>2</th>\n",
       "      <td>{}</td>\n",
       "      <td>(C, G, A, G, C, A, G, C, A, C, A, T, C, A, T, ...</td>\n",
       "      <td>{}</td>\n",
       "      <td>[]</td>\n",
       "      <td>FWIRNKE01BKZJJ rank=0000535 x=531.0 y=3933.0 l...</td>\n",
       "      <td>[]</td>\n",
       "      <td>FWIRNKE01BKZJJ</td>\n",
       "      <td>FWIRNKE01BKZJJ</td>\n",
       "    </tr>\n",
       "  </tbody>\n",
       "</table>\n",
       "</div>"
      ],
      "text/plain": [
       "  _per_letter_annotations                                               _seq  \\\n",
       "0                      {}  (C, G, A, T, A, T, T, C, G, A, T, C, C, G, C, ...   \n",
       "1                      {}  (G, C, G, A, G, C, A, G, C, A, A, T, C, A, T, ...   \n",
       "2                      {}  (C, G, A, G, C, A, G, C, A, C, A, T, C, A, T, ...   \n",
       "\n",
       "  annotations dbxrefs                                        description  \\\n",
       "0          {}      []  FWIRNKE01DKIF6 rank=0000177 x=1346.0 y=2772.0 ...   \n",
       "1          {}      []  FWIRNKE01CDBE3 rank=0000320 x=854.0 y=2685.0 l...   \n",
       "2          {}      []  FWIRNKE01BKZJJ rank=0000535 x=531.0 y=3933.0 l...   \n",
       "\n",
       "  features              id            name  \n",
       "0       []  FWIRNKE01DKIF6  FWIRNKE01DKIF6  \n",
       "1       []  FWIRNKE01CDBE3  FWIRNKE01CDBE3  \n",
       "2       []  FWIRNKE01BKZJJ  FWIRNKE01BKZJJ  "
      ]
     },
     "execution_count": 5,
     "metadata": {},
     "output_type": "execute_result"
    }
   ],
   "source": [
    "with gzip.open(fasta, \"rt\") as handle:\n",
    "    seqrecords = SeqIO.parse(handle, format='fasta')\n",
    "    fasta_df = pd.DataFrame.from_seqrecords(seqrecords)\n",
    "fasta_df.head(3)"
   ]
  },
  {
   "cell_type": "markdown",
   "metadata": {},
   "source": [
    "# Search description with little effort!"
   ]
  },
  {
   "cell_type": "code",
   "execution_count": 6,
   "metadata": {},
   "outputs": [
    {
     "data": {
      "text/html": [
       "<div>\n",
       "<style scoped>\n",
       "    .dataframe tbody tr th:only-of-type {\n",
       "        vertical-align: middle;\n",
       "    }\n",
       "\n",
       "    .dataframe tbody tr th {\n",
       "        vertical-align: top;\n",
       "    }\n",
       "\n",
       "    .dataframe thead th {\n",
       "        text-align: right;\n",
       "    }\n",
       "</style>\n",
       "<table border=\"1\" class=\"dataframe\">\n",
       "  <thead>\n",
       "    <tr style=\"text-align: right;\">\n",
       "      <th></th>\n",
       "      <th>_per_letter_annotations</th>\n",
       "      <th>_seq</th>\n",
       "      <th>annotations</th>\n",
       "      <th>dbxrefs</th>\n",
       "      <th>description</th>\n",
       "      <th>features</th>\n",
       "      <th>id</th>\n",
       "      <th>name</th>\n",
       "    </tr>\n",
       "  </thead>\n",
       "  <tbody>\n",
       "    <tr>\n",
       "      <th>0</th>\n",
       "      <td>{}</td>\n",
       "      <td>(C, G, A, T, A, T, T, C, G, A, T, C, C, G, C, ...</td>\n",
       "      <td>{}</td>\n",
       "      <td>[]</td>\n",
       "      <td>FWIRNKE01DKIF6 rank=0000177 x=1346.0 y=2772.0 ...</td>\n",
       "      <td>[]</td>\n",
       "      <td>FWIRNKE01DKIF6</td>\n",
       "      <td>FWIRNKE01DKIF6</td>\n",
       "    </tr>\n",
       "  </tbody>\n",
       "</table>\n",
       "</div>"
      ],
      "text/plain": [
       "  _per_letter_annotations                                               _seq  \\\n",
       "0                      {}  (C, G, A, T, A, T, T, C, G, A, T, C, C, G, C, ...   \n",
       "\n",
       "  annotations dbxrefs                                        description  \\\n",
       "0          {}      []  FWIRNKE01DKIF6 rank=0000177 x=1346.0 y=2772.0 ...   \n",
       "\n",
       "  features              id            name  \n",
       "0       []  FWIRNKE01DKIF6  FWIRNKE01DKIF6  "
      ]
     },
     "execution_count": 6,
     "metadata": {},
     "output_type": "execute_result"
    }
   ],
   "source": [
    "# I want all ranks of a certain number \n",
    "fasta_df[fasta_df['description'].str.contains('rank=0000177')]"
   ]
  },
  {
   "cell_type": "markdown",
   "metadata": {},
   "source": [
    "# Better view of the layout for a single row"
   ]
  },
  {
   "cell_type": "code",
   "execution_count": 7,
   "metadata": {},
   "outputs": [
    {
     "data": {
      "text/plain": [
       "[{'_per_letter_annotations': {},\n",
       "  '_seq': Seq('CGATATTCGATCCGCATCGCTGCCCTACCCGTGGAGTGCCTCCCTCGGNGCAG', SingleLetterAlphabet()),\n",
       "  'annotations': {},\n",
       "  'dbxrefs': [],\n",
       "  'description': 'FWIRNKE01DKIF6 rank=0000177 x=1346.0 y=2772.0 length=53',\n",
       "  'features': [],\n",
       "  'id': 'FWIRNKE01DKIF6',\n",
       "  'name': 'FWIRNKE01DKIF6'}]"
      ]
     },
     "execution_count": 7,
     "metadata": {},
     "output_type": "execute_result"
    }
   ],
   "source": [
    "fasta_df.head(1).to_dict('records')"
   ]
  },
  {
   "cell_type": "markdown",
   "metadata": {},
   "source": [
    "# GenBank to Pandas DataFrame example"
   ]
  },
  {
   "cell_type": "code",
   "execution_count": 8,
   "metadata": {},
   "outputs": [
    {
     "data": {
      "text/html": [
       "<div>\n",
       "<style scoped>\n",
       "    .dataframe tbody tr th:only-of-type {\n",
       "        vertical-align: middle;\n",
       "    }\n",
       "\n",
       "    .dataframe tbody tr th {\n",
       "        vertical-align: top;\n",
       "    }\n",
       "\n",
       "    .dataframe thead th {\n",
       "        text-align: right;\n",
       "    }\n",
       "</style>\n",
       "<table border=\"1\" class=\"dataframe\">\n",
       "  <thead>\n",
       "    <tr style=\"text-align: right;\">\n",
       "      <th></th>\n",
       "      <th>EC_number</th>\n",
       "      <th>_per_letter_annotations</th>\n",
       "      <th>_seq</th>\n",
       "      <th>accessions</th>\n",
       "      <th>codon_start</th>\n",
       "      <th>comment</th>\n",
       "      <th>contig</th>\n",
       "      <th>data_file_division</th>\n",
       "      <th>date</th>\n",
       "      <th>db_xref</th>\n",
       "      <th>...</th>\n",
       "      <th>references</th>\n",
       "      <th>sequence_version</th>\n",
       "      <th>source</th>\n",
       "      <th>strain</th>\n",
       "      <th>sub_species</th>\n",
       "      <th>taxonomy</th>\n",
       "      <th>topology</th>\n",
       "      <th>transl_table</th>\n",
       "      <th>translation</th>\n",
       "      <th>type</th>\n",
       "    </tr>\n",
       "  </thead>\n",
       "  <tbody>\n",
       "    <tr>\n",
       "      <th>0</th>\n",
       "      <td>NaN</td>\n",
       "      <td>{}</td>\n",
       "      <td>(C, G, A, T, T, A, A, A, G, A, T, A, G, A, A, ...</td>\n",
       "      <td>[NC_007795]</td>\n",
       "      <td>NaN</td>\n",
       "      <td>REVIEWED REFSEQ: This record has been curated ...</td>\n",
       "      <td>join(CP000253.1:1..2821361)</td>\n",
       "      <td>CON</td>\n",
       "      <td>03-AUG-2016</td>\n",
       "      <td>[taxon:93061]</td>\n",
       "      <td>...</td>\n",
       "      <td>[location: [0:2821361]\\nauthors: Gillaspy,A.F....</td>\n",
       "      <td>1</td>\n",
       "      <td>Staphylococcus aureus subsp. aureus NCTC 8325</td>\n",
       "      <td>[NCTC 8325]</td>\n",
       "      <td>[aureus]</td>\n",
       "      <td>[Bacteria, Firmicutes, Bacilli, Bacillales, St...</td>\n",
       "      <td>circular</td>\n",
       "      <td>NaN</td>\n",
       "      <td>NaN</td>\n",
       "      <td>source</td>\n",
       "    </tr>\n",
       "    <tr>\n",
       "      <th>1</th>\n",
       "      <td>NaN</td>\n",
       "      <td>{}</td>\n",
       "      <td>(C, G, A, T, T, A, A, A, G, A, T, A, G, A, A, ...</td>\n",
       "      <td>[NC_007795]</td>\n",
       "      <td>NaN</td>\n",
       "      <td>REVIEWED REFSEQ: This record has been curated ...</td>\n",
       "      <td>join(CP000253.1:1..2821361)</td>\n",
       "      <td>CON</td>\n",
       "      <td>03-AUG-2016</td>\n",
       "      <td>[GeneID:3919798]</td>\n",
       "      <td>...</td>\n",
       "      <td>[location: [0:2821361]\\nauthors: Gillaspy,A.F....</td>\n",
       "      <td>1</td>\n",
       "      <td>Staphylococcus aureus subsp. aureus NCTC 8325</td>\n",
       "      <td>NaN</td>\n",
       "      <td>NaN</td>\n",
       "      <td>[Bacteria, Firmicutes, Bacilli, Bacillales, St...</td>\n",
       "      <td>circular</td>\n",
       "      <td>NaN</td>\n",
       "      <td>NaN</td>\n",
       "      <td>gene</td>\n",
       "    </tr>\n",
       "    <tr>\n",
       "      <th>2</th>\n",
       "      <td>NaN</td>\n",
       "      <td>{}</td>\n",
       "      <td>(C, G, A, T, T, A, A, A, G, A, T, A, G, A, A, ...</td>\n",
       "      <td>[NC_007795]</td>\n",
       "      <td>[1]</td>\n",
       "      <td>REVIEWED REFSEQ: This record has been curated ...</td>\n",
       "      <td>join(CP000253.1:1..2821361)</td>\n",
       "      <td>CON</td>\n",
       "      <td>03-AUG-2016</td>\n",
       "      <td>[GeneID:3919798]</td>\n",
       "      <td>...</td>\n",
       "      <td>[location: [0:2821361]\\nauthors: Gillaspy,A.F....</td>\n",
       "      <td>1</td>\n",
       "      <td>Staphylococcus aureus subsp. aureus NCTC 8325</td>\n",
       "      <td>NaN</td>\n",
       "      <td>NaN</td>\n",
       "      <td>[Bacteria, Firmicutes, Bacilli, Bacillales, St...</td>\n",
       "      <td>circular</td>\n",
       "      <td>[11]</td>\n",
       "      <td>[MSEKEIWEKVLEIAQEKLSAVSYSTFLKDTELYTIKDGEAIVLSS...</td>\n",
       "      <td>CDS</td>\n",
       "    </tr>\n",
       "  </tbody>\n",
       "</table>\n",
       "<p>3 rows × 38 columns</p>\n",
       "</div>"
      ],
      "text/plain": [
       "  EC_number _per_letter_annotations  \\\n",
       "0       NaN                      {}   \n",
       "1       NaN                      {}   \n",
       "2       NaN                      {}   \n",
       "\n",
       "                                                _seq   accessions codon_start  \\\n",
       "0  (C, G, A, T, T, A, A, A, G, A, T, A, G, A, A, ...  [NC_007795]         NaN   \n",
       "1  (C, G, A, T, T, A, A, A, G, A, T, A, G, A, A, ...  [NC_007795]         NaN   \n",
       "2  (C, G, A, T, T, A, A, A, G, A, T, A, G, A, A, ...  [NC_007795]         [1]   \n",
       "\n",
       "                                             comment  \\\n",
       "0  REVIEWED REFSEQ: This record has been curated ...   \n",
       "1  REVIEWED REFSEQ: This record has been curated ...   \n",
       "2  REVIEWED REFSEQ: This record has been curated ...   \n",
       "\n",
       "                        contig data_file_division         date  \\\n",
       "0  join(CP000253.1:1..2821361)                CON  03-AUG-2016   \n",
       "1  join(CP000253.1:1..2821361)                CON  03-AUG-2016   \n",
       "2  join(CP000253.1:1..2821361)                CON  03-AUG-2016   \n",
       "\n",
       "            db_xref  ...                                         references  \\\n",
       "0     [taxon:93061]  ...  [location: [0:2821361]\\nauthors: Gillaspy,A.F....   \n",
       "1  [GeneID:3919798]  ...  [location: [0:2821361]\\nauthors: Gillaspy,A.F....   \n",
       "2  [GeneID:3919798]  ...  [location: [0:2821361]\\nauthors: Gillaspy,A.F....   \n",
       "\n",
       "  sequence_version                                         source  \\\n",
       "0                1  Staphylococcus aureus subsp. aureus NCTC 8325   \n",
       "1                1  Staphylococcus aureus subsp. aureus NCTC 8325   \n",
       "2                1  Staphylococcus aureus subsp. aureus NCTC 8325   \n",
       "\n",
       "        strain sub_species                                           taxonomy  \\\n",
       "0  [NCTC 8325]    [aureus]  [Bacteria, Firmicutes, Bacilli, Bacillales, St...   \n",
       "1          NaN         NaN  [Bacteria, Firmicutes, Bacilli, Bacillales, St...   \n",
       "2          NaN         NaN  [Bacteria, Firmicutes, Bacilli, Bacillales, St...   \n",
       "\n",
       "   topology transl_table                                        translation  \\\n",
       "0  circular          NaN                                                NaN   \n",
       "1  circular          NaN                                                NaN   \n",
       "2  circular         [11]  [MSEKEIWEKVLEIAQEKLSAVSYSTFLKDTELYTIKDGEAIVLSS...   \n",
       "\n",
       "     type  \n",
       "0  source  \n",
       "1    gene  \n",
       "2     CDS  \n",
       "\n",
       "[3 rows x 38 columns]"
      ]
     },
     "execution_count": 8,
     "metadata": {},
     "output_type": "execute_result"
    }
   ],
   "source": [
    "gbk_df = pd.read_seq(gbk, format='genbank')\n",
    "gbk_df.head(3)"
   ]
  },
  {
   "cell_type": "markdown",
   "metadata": {},
   "source": [
    "# See all the possible columns of meta data"
   ]
  },
  {
   "cell_type": "code",
   "execution_count": 9,
   "metadata": {},
   "outputs": [
    {
     "data": {
      "text/plain": [
       "Index(['EC_number', '_per_letter_annotations', '_seq', 'accessions',\n",
       "       'codon_start', 'comment', 'contig', 'data_file_division', 'date',\n",
       "       'db_xref', 'dbxrefs', 'description', 'experiment', 'gene',\n",
       "       'gene_synonym', 'id', 'keywords', 'location', 'locus_tag', 'mol_type',\n",
       "       'molecule_type', 'name', 'note', 'organism', 'product', 'protein_id',\n",
       "       'pseudo', 'pseudogene', 'references', 'sequence_version', 'source',\n",
       "       'strain', 'sub_species', 'taxonomy', 'topology', 'transl_table',\n",
       "       'translation', 'type'],\n",
       "      dtype='object')"
      ]
     },
     "execution_count": 9,
     "metadata": {},
     "output_type": "execute_result"
    }
   ],
   "source": [
    "gbk_df.columns"
   ]
  },
  {
   "cell_type": "markdown",
   "metadata": {},
   "source": [
    "# Seach for only rows of type CDS"
   ]
  },
  {
   "cell_type": "code",
   "execution_count": 10,
   "metadata": {},
   "outputs": [
    {
     "name": "stdout",
     "output_type": "stream",
     "text": [
      "Genome has CDS count: (2767, 38)\n",
      "Genome has GENE count: (2872, 38)\n"
     ]
    }
   ],
   "source": [
    "cds = gbk_df[gbk_df.type == 'CDS']\n",
    "gene = gbk_df[gbk_df.type == 'gene']\n",
    "print('Genome has CDS count:', cds.shape)\n",
    "print('Genome has GENE count:', gene.shape)"
   ]
  },
  {
   "cell_type": "code",
   "execution_count": 11,
   "metadata": {},
   "outputs": [
    {
     "data": {
      "text/html": [
       "<div>\n",
       "<style scoped>\n",
       "    .dataframe tbody tr th:only-of-type {\n",
       "        vertical-align: middle;\n",
       "    }\n",
       "\n",
       "    .dataframe tbody tr th {\n",
       "        vertical-align: top;\n",
       "    }\n",
       "\n",
       "    .dataframe thead th {\n",
       "        text-align: right;\n",
       "    }\n",
       "</style>\n",
       "<table border=\"1\" class=\"dataframe\">\n",
       "  <thead>\n",
       "    <tr style=\"text-align: right;\">\n",
       "      <th></th>\n",
       "      <th>EC_number</th>\n",
       "      <th>_per_letter_annotations</th>\n",
       "      <th>_seq</th>\n",
       "      <th>accessions</th>\n",
       "      <th>codon_start</th>\n",
       "      <th>comment</th>\n",
       "      <th>contig</th>\n",
       "      <th>data_file_division</th>\n",
       "      <th>date</th>\n",
       "      <th>db_xref</th>\n",
       "      <th>...</th>\n",
       "      <th>references</th>\n",
       "      <th>sequence_version</th>\n",
       "      <th>source</th>\n",
       "      <th>strain</th>\n",
       "      <th>sub_species</th>\n",
       "      <th>taxonomy</th>\n",
       "      <th>topology</th>\n",
       "      <th>transl_table</th>\n",
       "      <th>translation</th>\n",
       "      <th>type</th>\n",
       "    </tr>\n",
       "  </thead>\n",
       "  <tbody>\n",
       "    <tr>\n",
       "      <th>2</th>\n",
       "      <td>NaN</td>\n",
       "      <td>{}</td>\n",
       "      <td>(C, G, A, T, T, A, A, A, G, A, T, A, G, A, A, ...</td>\n",
       "      <td>[NC_007795]</td>\n",
       "      <td>[1]</td>\n",
       "      <td>REVIEWED REFSEQ: This record has been curated ...</td>\n",
       "      <td>join(CP000253.1:1..2821361)</td>\n",
       "      <td>CON</td>\n",
       "      <td>03-AUG-2016</td>\n",
       "      <td>[GeneID:3919798]</td>\n",
       "      <td>...</td>\n",
       "      <td>[location: [0:2821361]\\nauthors: Gillaspy,A.F....</td>\n",
       "      <td>1</td>\n",
       "      <td>Staphylococcus aureus subsp. aureus NCTC 8325</td>\n",
       "      <td>NaN</td>\n",
       "      <td>NaN</td>\n",
       "      <td>[Bacteria, Firmicutes, Bacilli, Bacillales, St...</td>\n",
       "      <td>circular</td>\n",
       "      <td>[11]</td>\n",
       "      <td>[MSEKEIWEKVLEIAQEKLSAVSYSTFLKDTELYTIKDGEAIVLSS...</td>\n",
       "      <td>CDS</td>\n",
       "    </tr>\n",
       "    <tr>\n",
       "      <th>4</th>\n",
       "      <td>[2.7.7.7]</td>\n",
       "      <td>{}</td>\n",
       "      <td>(C, G, A, T, T, A, A, A, G, A, T, A, G, A, A, ...</td>\n",
       "      <td>[NC_007795]</td>\n",
       "      <td>[1]</td>\n",
       "      <td>REVIEWED REFSEQ: This record has been curated ...</td>\n",
       "      <td>join(CP000253.1:1..2821361)</td>\n",
       "      <td>CON</td>\n",
       "      <td>03-AUG-2016</td>\n",
       "      <td>[GeneID:3919799]</td>\n",
       "      <td>...</td>\n",
       "      <td>[location: [0:2821361]\\nauthors: Gillaspy,A.F....</td>\n",
       "      <td>1</td>\n",
       "      <td>Staphylococcus aureus subsp. aureus NCTC 8325</td>\n",
       "      <td>NaN</td>\n",
       "      <td>NaN</td>\n",
       "      <td>[Bacteria, Firmicutes, Bacilli, Bacillales, St...</td>\n",
       "      <td>circular</td>\n",
       "      <td>[11]</td>\n",
       "      <td>[MMEFTIKRDYFITQLNDTLKAISPRTTLPILTGIKIDAKEHEVIL...</td>\n",
       "      <td>CDS</td>\n",
       "    </tr>\n",
       "    <tr>\n",
       "      <th>6</th>\n",
       "      <td>NaN</td>\n",
       "      <td>{}</td>\n",
       "      <td>(C, G, A, T, T, A, A, A, G, A, T, A, G, A, A, ...</td>\n",
       "      <td>[NC_007795]</td>\n",
       "      <td>[1]</td>\n",
       "      <td>REVIEWED REFSEQ: This record has been curated ...</td>\n",
       "      <td>join(CP000253.1:1..2821361)</td>\n",
       "      <td>CON</td>\n",
       "      <td>03-AUG-2016</td>\n",
       "      <td>[GeneID:3919176]</td>\n",
       "      <td>...</td>\n",
       "      <td>[location: [0:2821361]\\nauthors: Gillaspy,A.F....</td>\n",
       "      <td>1</td>\n",
       "      <td>Staphylococcus aureus subsp. aureus NCTC 8325</td>\n",
       "      <td>NaN</td>\n",
       "      <td>NaN</td>\n",
       "      <td>[Bacteria, Firmicutes, Bacilli, Bacillales, St...</td>\n",
       "      <td>circular</td>\n",
       "      <td>[11]</td>\n",
       "      <td>[MIILVQEVVVEGDINLGQFLKTEGIIESGGQAKWFLQDVEVLING...</td>\n",
       "      <td>CDS</td>\n",
       "    </tr>\n",
       "  </tbody>\n",
       "</table>\n",
       "<p>3 rows × 38 columns</p>\n",
       "</div>"
      ],
      "text/plain": [
       "   EC_number _per_letter_annotations  \\\n",
       "2        NaN                      {}   \n",
       "4  [2.7.7.7]                      {}   \n",
       "6        NaN                      {}   \n",
       "\n",
       "                                                _seq   accessions codon_start  \\\n",
       "2  (C, G, A, T, T, A, A, A, G, A, T, A, G, A, A, ...  [NC_007795]         [1]   \n",
       "4  (C, G, A, T, T, A, A, A, G, A, T, A, G, A, A, ...  [NC_007795]         [1]   \n",
       "6  (C, G, A, T, T, A, A, A, G, A, T, A, G, A, A, ...  [NC_007795]         [1]   \n",
       "\n",
       "                                             comment  \\\n",
       "2  REVIEWED REFSEQ: This record has been curated ...   \n",
       "4  REVIEWED REFSEQ: This record has been curated ...   \n",
       "6  REVIEWED REFSEQ: This record has been curated ...   \n",
       "\n",
       "                        contig data_file_division         date  \\\n",
       "2  join(CP000253.1:1..2821361)                CON  03-AUG-2016   \n",
       "4  join(CP000253.1:1..2821361)                CON  03-AUG-2016   \n",
       "6  join(CP000253.1:1..2821361)                CON  03-AUG-2016   \n",
       "\n",
       "            db_xref  ...                                         references  \\\n",
       "2  [GeneID:3919798]  ...  [location: [0:2821361]\\nauthors: Gillaspy,A.F....   \n",
       "4  [GeneID:3919799]  ...  [location: [0:2821361]\\nauthors: Gillaspy,A.F....   \n",
       "6  [GeneID:3919176]  ...  [location: [0:2821361]\\nauthors: Gillaspy,A.F....   \n",
       "\n",
       "  sequence_version                                         source strain  \\\n",
       "2                1  Staphylococcus aureus subsp. aureus NCTC 8325    NaN   \n",
       "4                1  Staphylococcus aureus subsp. aureus NCTC 8325    NaN   \n",
       "6                1  Staphylococcus aureus subsp. aureus NCTC 8325    NaN   \n",
       "\n",
       "  sub_species                                           taxonomy  topology  \\\n",
       "2         NaN  [Bacteria, Firmicutes, Bacilli, Bacillales, St...  circular   \n",
       "4         NaN  [Bacteria, Firmicutes, Bacilli, Bacillales, St...  circular   \n",
       "6         NaN  [Bacteria, Firmicutes, Bacilli, Bacillales, St...  circular   \n",
       "\n",
       "  transl_table                                        translation type  \n",
       "2         [11]  [MSEKEIWEKVLEIAQEKLSAVSYSTFLKDTELYTIKDGEAIVLSS...  CDS  \n",
       "4         [11]  [MMEFTIKRDYFITQLNDTLKAISPRTTLPILTGIKIDAKEHEVIL...  CDS  \n",
       "6         [11]  [MIILVQEVVVEGDINLGQFLKTEGIIESGGQAKWFLQDVEVLING...  CDS  \n",
       "\n",
       "[3 rows x 38 columns]"
      ]
     },
     "execution_count": 11,
     "metadata": {},
     "output_type": "execute_result"
    }
   ],
   "source": [
    "cds.head(3)"
   ]
  },
  {
   "cell_type": "markdown",
   "metadata": {},
   "source": [
    "# Better view of the layout for a single row"
   ]
  },
  {
   "cell_type": "code",
   "execution_count": 12,
   "metadata": {},
   "outputs": [
    {
     "data": {
      "text/plain": [
       "[{'EC_number': nan,\n",
       "  '_per_letter_annotations': {},\n",
       "  '_seq': Seq('CGATTAAAGATAGAAATACACGATGCGAGCAATCAAATTTCATAACATCACCAT...TAT', IUPACAmbiguousDNA()),\n",
       "  'accessions': ['NC_007795'],\n",
       "  'codon_start': ['1'],\n",
       "  'comment': 'REVIEWED REFSEQ: This record has been curated by NCBI staff. The\\nreference sequence was derived from CP000253.\\nRefSeq Category: Reference Genome\\n            UPR: UniProt Genome\\nStaphylococcus aureus subsp. aureus NCTC 8325 is available from\\nwww.narsa.net.\\nCOMPLETENESS: full length.',\n",
       "  'contig': 'join(CP000253.1:1..2821361)',\n",
       "  'data_file_division': 'CON',\n",
       "  'date': '03-AUG-2016',\n",
       "  'db_xref': ['GeneID:3919798'],\n",
       "  'dbxrefs': ['BioProject:PRJNA57795', 'Assembly:GCF_000013425.1'],\n",
       "  'description': 'Staphylococcus aureus subsp. aureus NCTC 8325 chromosome, complete genome',\n",
       "  'experiment': nan,\n",
       "  'gene': ['dnaA'],\n",
       "  'gene_synonym': nan,\n",
       "  'id': 'NC_007795.1',\n",
       "  'keywords': ['RefSeq'],\n",
       "  'location': FeatureLocation(ExactPosition(516), ExactPosition(1878), strand=1),\n",
       "  'locus_tag': ['SAOUHSC_00001'],\n",
       "  'mol_type': nan,\n",
       "  'molecule_type': 'DNA',\n",
       "  'name': 'NC_007795',\n",
       "  'note': ['binds to the dnaA-box as an ATP-bound complex at the origin of replication during the initiation of chromosomal replication; can also affect transcription of multiple genes including itself.'],\n",
       "  'organism': 'Staphylococcus aureus subsp. aureus NCTC 8325',\n",
       "  'product': ['chromosomal replication initiation protein'],\n",
       "  'protein_id': ['YP_498609.1'],\n",
       "  'pseudo': nan,\n",
       "  'pseudogene': nan,\n",
       "  'references': [Reference(title='The Staphylococcus aureus NCTC8325 Genome', ...),\n",
       "   Reference(title='Direct Submission', ...),\n",
       "   Reference(title='Direct Submission', ...)],\n",
       "  'sequence_version': 1,\n",
       "  'source': 'Staphylococcus aureus subsp. aureus NCTC 8325',\n",
       "  'strain': nan,\n",
       "  'sub_species': nan,\n",
       "  'taxonomy': ['Bacteria',\n",
       "   'Firmicutes',\n",
       "   'Bacilli',\n",
       "   'Bacillales',\n",
       "   'Staphylococcaceae',\n",
       "   'Staphylococcus'],\n",
       "  'topology': 'circular',\n",
       "  'transl_table': ['11'],\n",
       "  'translation': ['MSEKEIWEKVLEIAQEKLSAVSYSTFLKDTELYTIKDGEAIVLSSIPFNANWLNQQYAEIIQAILFDVVGYEVKPHFITTEELANYSNNETATPKETTKPSTETTEDNHVLGREQFNAHNTFDTFVIGPGNRFPHAASLAVAEAPAKAYNPLFIYGGVGLGKTHLMHAIGHHVLDNNPDAKVIYTSSEKFTNEFIKSIRDNEGEAFRERYRNIDVLLIDDIQFIQNKVQTQEEFFYTFNELHQNNKQIVISSDRPPKEIAQLEDRLRSRFEWGLIVDITPPDYETRMAILQKKIEEEKLDIPPEALNYIANQIQSNIRELEGALTRLLAYSQLLGKPITTELTAEALKDIIQAPKSKKITIQDIQKIVGQYYNVRIEDFSAKKRTKSIAYPRQIAMYLSRELTDFSLPKIGEEFGGRDHTTVIHAHEKISKDLKEDPIFKQEVENLEKEIRNV'],\n",
       "  'type': 'CDS'}]"
      ]
     },
     "execution_count": 12,
     "metadata": {},
     "output_type": "execute_result"
    }
   ],
   "source": [
    "cds.head(1).to_dict('records')"
   ]
  },
  {
   "cell_type": "markdown",
   "metadata": {},
   "source": [
    "------"
   ]
  },
  {
   "cell_type": "markdown",
   "metadata": {},
   "source": [
    "# Machine Learning Example Application"
   ]
  },
  {
   "cell_type": "markdown",
   "metadata": {},
   "source": [
    "### For simplicity of this example we will pretend we have a large sample set, but really we just using the single genbank genome. The follow will create the feature table we can use for a simple Sequential model.\n",
    "1. Sample the first 4 genes\n",
    "2. Given them random mutation value from 0 to 20\n",
    "3. Give each mutation a random \"observed in healthy patient\""
   ]
  },
  {
   "cell_type": "code",
   "execution_count": 13,
   "metadata": {},
   "outputs": [
    {
     "data": {
      "text/plain": [
       "['dnaA', 'recF', 'rplI', 'argJ']"
      ]
     },
     "execution_count": 13,
     "metadata": {},
     "output_type": "execute_result"
    }
   ],
   "source": [
    "# Sample for the first 4 genes\n",
    "genes = [gene[0] for gene in gbk_df[(gbk_df.type == 'gene') & ~gbk_df.gene.isna()]['gene'][:4].values]\n",
    "genes"
   ]
  },
  {
   "cell_type": "code",
   "execution_count": 27,
   "metadata": {},
   "outputs": [],
   "source": [
    "genes = ['dnaA', 'recF', 'rplI', 'argJ']"
   ]
  },
  {
   "cell_type": "code",
   "execution_count": 28,
   "metadata": {},
   "outputs": [
    {
     "data": {
      "text/html": [
       "<div>\n",
       "<style scoped>\n",
       "    .dataframe tbody tr th:only-of-type {\n",
       "        vertical-align: middle;\n",
       "    }\n",
       "\n",
       "    .dataframe tbody tr th {\n",
       "        vertical-align: top;\n",
       "    }\n",
       "\n",
       "    .dataframe thead th {\n",
       "        text-align: right;\n",
       "    }\n",
       "</style>\n",
       "<table border=\"1\" class=\"dataframe\">\n",
       "  <thead>\n",
       "    <tr style=\"text-align: right;\">\n",
       "      <th></th>\n",
       "      <th>dnaA</th>\n",
       "      <th>recF</th>\n",
       "      <th>rplI</th>\n",
       "      <th>argJ</th>\n",
       "    </tr>\n",
       "  </thead>\n",
       "  <tbody>\n",
       "    <tr>\n",
       "      <th>0</th>\n",
       "      <td>8.615931</td>\n",
       "      <td>17.906514</td>\n",
       "      <td>14.575177</td>\n",
       "      <td>2.743147</td>\n",
       "    </tr>\n",
       "    <tr>\n",
       "      <th>1</th>\n",
       "      <td>4.034300</td>\n",
       "      <td>1.794926</td>\n",
       "      <td>11.473486</td>\n",
       "      <td>15.008555</td>\n",
       "    </tr>\n",
       "    <tr>\n",
       "      <th>2</th>\n",
       "      <td>19.376403</td>\n",
       "      <td>2.339961</td>\n",
       "      <td>3.557232</td>\n",
       "      <td>9.556185</td>\n",
       "    </tr>\n",
       "  </tbody>\n",
       "</table>\n",
       "</div>"
      ],
      "text/plain": [
       "        dnaA       recF       rplI       argJ\n",
       "0   8.615931  17.906514  14.575177   2.743147\n",
       "1   4.034300   1.794926  11.473486  15.008555\n",
       "2  19.376403   2.339961   3.557232   9.556185"
      ]
     },
     "execution_count": 28,
     "metadata": {},
     "output_type": "execute_result"
    }
   ],
   "source": [
    "# Create fake observed mutation rates for target genomes compared to a reference genome\n",
    "mutation_array = lambda : list(np.random.uniform(low=0, high=20, size=(1, 100))[0])\n",
    "observed_gene_mutation_per_genome = pd.DataFrame.from_dict({gene:mutation_array() for gene in genes})\n",
    "observed_gene_mutation_per_genome.head(3)"
   ]
  },
  {
   "cell_type": "code",
   "execution_count": 29,
   "metadata": {},
   "outputs": [
    {
     "data": {
      "text/html": [
       "<div>\n",
       "<style scoped>\n",
       "    .dataframe tbody tr th:only-of-type {\n",
       "        vertical-align: middle;\n",
       "    }\n",
       "\n",
       "    .dataframe tbody tr th {\n",
       "        vertical-align: top;\n",
       "    }\n",
       "\n",
       "    .dataframe thead th {\n",
       "        text-align: right;\n",
       "    }\n",
       "</style>\n",
       "<table border=\"1\" class=\"dataframe\">\n",
       "  <thead>\n",
       "    <tr style=\"text-align: right;\">\n",
       "      <th></th>\n",
       "      <th>dnaA</th>\n",
       "      <th>recF</th>\n",
       "      <th>rplI</th>\n",
       "      <th>argJ</th>\n",
       "      <th>fake_disease</th>\n",
       "    </tr>\n",
       "  </thead>\n",
       "  <tbody>\n",
       "    <tr>\n",
       "      <th>0</th>\n",
       "      <td>8.615931</td>\n",
       "      <td>17.906514</td>\n",
       "      <td>14.575177</td>\n",
       "      <td>2.743147</td>\n",
       "      <td>1.0</td>\n",
       "    </tr>\n",
       "    <tr>\n",
       "      <th>1</th>\n",
       "      <td>4.034300</td>\n",
       "      <td>1.794926</td>\n",
       "      <td>11.473486</td>\n",
       "      <td>15.008555</td>\n",
       "      <td>0.0</td>\n",
       "    </tr>\n",
       "    <tr>\n",
       "      <th>2</th>\n",
       "      <td>19.376403</td>\n",
       "      <td>2.339961</td>\n",
       "      <td>3.557232</td>\n",
       "      <td>9.556185</td>\n",
       "      <td>0.0</td>\n",
       "    </tr>\n",
       "    <tr>\n",
       "      <th>3</th>\n",
       "      <td>5.283454</td>\n",
       "      <td>0.395019</td>\n",
       "      <td>7.270980</td>\n",
       "      <td>18.873140</td>\n",
       "      <td>0.0</td>\n",
       "    </tr>\n",
       "    <tr>\n",
       "      <th>4</th>\n",
       "      <td>12.732603</td>\n",
       "      <td>14.664262</td>\n",
       "      <td>11.857449</td>\n",
       "      <td>9.892937</td>\n",
       "      <td>0.0</td>\n",
       "    </tr>\n",
       "    <tr>\n",
       "      <th>5</th>\n",
       "      <td>15.451532</td>\n",
       "      <td>0.991480</td>\n",
       "      <td>11.116211</td>\n",
       "      <td>0.759984</td>\n",
       "      <td>0.0</td>\n",
       "    </tr>\n",
       "    <tr>\n",
       "      <th>6</th>\n",
       "      <td>9.783260</td>\n",
       "      <td>17.743193</td>\n",
       "      <td>12.138172</td>\n",
       "      <td>9.841209</td>\n",
       "      <td>0.0</td>\n",
       "    </tr>\n",
       "    <tr>\n",
       "      <th>7</th>\n",
       "      <td>13.850767</td>\n",
       "      <td>13.739428</td>\n",
       "      <td>17.460336</td>\n",
       "      <td>8.261470</td>\n",
       "      <td>1.0</td>\n",
       "    </tr>\n",
       "    <tr>\n",
       "      <th>8</th>\n",
       "      <td>18.238783</td>\n",
       "      <td>3.425863</td>\n",
       "      <td>13.880310</td>\n",
       "      <td>4.257181</td>\n",
       "      <td>0.0</td>\n",
       "    </tr>\n",
       "    <tr>\n",
       "      <th>9</th>\n",
       "      <td>12.593506</td>\n",
       "      <td>19.079922</td>\n",
       "      <td>15.292988</td>\n",
       "      <td>3.474469</td>\n",
       "      <td>0.0</td>\n",
       "    </tr>\n",
       "  </tbody>\n",
       "</table>\n",
       "</div>"
      ],
      "text/plain": [
       "        dnaA       recF       rplI       argJ  fake_disease\n",
       "0   8.615931  17.906514  14.575177   2.743147           1.0\n",
       "1   4.034300   1.794926  11.473486  15.008555           0.0\n",
       "2  19.376403   2.339961   3.557232   9.556185           0.0\n",
       "3   5.283454   0.395019   7.270980  18.873140           0.0\n",
       "4  12.732603  14.664262  11.857449   9.892937           0.0\n",
       "5  15.451532   0.991480  11.116211   0.759984           0.0\n",
       "6   9.783260  17.743193  12.138172   9.841209           0.0\n",
       "7  13.850767  13.739428  17.460336   8.261470           1.0\n",
       "8  18.238783   3.425863  13.880310   4.257181           0.0\n",
       "9  12.593506  19.079922  15.292988   3.474469           0.0"
      ]
     },
     "execution_count": 29,
     "metadata": {},
     "output_type": "execute_result"
    }
   ],
   "source": [
    "# Give a 0 or 1 to show if a patient has the fake disease\n",
    "# We a biased 30 percent with disease  \n",
    "patients = np.zeros(100)\n",
    "patients[:30] = 1\n",
    "np.random.shuffle(patients)\n",
    "\n",
    "observed_gene_mutation_per_genome['fake_disease'] = list(patients)\n",
    "observed_gene_mutation_per_genome.head(10)"
   ]
  },
  {
   "cell_type": "code",
   "execution_count": 30,
   "metadata": {},
   "outputs": [],
   "source": [
    "from tensorflow.keras.models import Sequential\n",
    "from tensorflow.keras.layers import Dense \n",
    "from tensorflow.keras.callbacks import EarlyStopping\n",
    "\n",
    "from sklearn.model_selection import train_test_split\n",
    "from sklearn.metrics import confusion_matrix, recall_score, precision_score"
   ]
  },
  {
   "cell_type": "code",
   "execution_count": 31,
   "metadata": {},
   "outputs": [],
   "source": [
    "df = observed_gene_mutation_per_genome\n",
    "X_train, X_test, y_train, y_test = train_test_split(df.iloc[:,:4], df['fake_disease'],\n",
    "                                                    test_size = 0.33, random_state = 100)"
   ]
  },
  {
   "cell_type": "markdown",
   "metadata": {},
   "source": [
    "# Create general sequential model with 4 layers  "
   ]
  },
  {
   "cell_type": "code",
   "execution_count": 32,
   "metadata": {},
   "outputs": [],
   "source": [
    "model = Sequential()\n",
    "\n",
    "model.add(Dense(4, activation = 'relu')) # 4 for just random guessing\n",
    "model.add(Dense(4, activation = 'relu'))\n",
    "model.add(Dense(4, activation = 'relu'))\n",
    "model.add(Dense(1)) # just want healthy status; hence final layer is 1\n",
    "\n",
    "model.compile(optimizer='rmsprop', loss='mse') # mean squared error for sanity checking"
   ]
  },
  {
   "cell_type": "code",
   "execution_count": 35,
   "metadata": {},
   "outputs": [
    {
     "name": "stdout",
     "output_type": "stream",
     "text": [
      "Epoch 1/100\n",
      "3/3 [==============================] - 0s 1ms/step - loss: 2.8593\n",
      "Epoch 2/100\n",
      "3/3 [==============================] - 0s 981us/step - loss: 1.8085\n",
      "Epoch 3/100\n",
      "3/3 [==============================] - 0s 787us/step - loss: 1.3662\n",
      "Epoch 4/100\n",
      "3/3 [==============================] - 0s 735us/step - loss: 1.1024\n",
      "Epoch 5/100\n",
      "3/3 [==============================] - 0s 787us/step - loss: 0.8755\n",
      "Epoch 6/100\n",
      "3/3 [==============================] - 0s 1ms/step - loss: 0.7448\n",
      "Epoch 7/100\n",
      "3/3 [==============================] - 0s 947us/step - loss: 0.6349\n",
      "Epoch 8/100\n",
      "3/3 [==============================] - 0s 851us/step - loss: 0.5505\n",
      "Epoch 9/100\n",
      "3/3 [==============================] - 0s 889us/step - loss: 0.4751\n",
      "Epoch 10/100\n",
      "3/3 [==============================] - 0s 1ms/step - loss: 0.4273\n",
      "Epoch 11/100\n",
      "3/3 [==============================] - 0s 1ms/step - loss: 0.3824\n",
      "Epoch 12/100\n",
      "3/3 [==============================] - 0s 1ms/step - loss: 0.3573\n",
      "Epoch 13/100\n",
      "3/3 [==============================] - 0s 949us/step - loss: 0.3269\n",
      "Epoch 14/100\n",
      "3/3 [==============================] - 0s 2ms/step - loss: 0.3025\n",
      "Epoch 15/100\n",
      "3/3 [==============================] - 0s 1ms/step - loss: 0.2928\n",
      "Epoch 16/100\n",
      "3/3 [==============================] - 0s 950us/step - loss: 0.2902\n",
      "Epoch 17/100\n",
      "3/3 [==============================] - 0s 1ms/step - loss: 0.2907\n",
      "Epoch 18/100\n",
      "3/3 [==============================] - 0s 2ms/step - loss: 0.2794\n",
      "Epoch 19/100\n",
      "3/3 [==============================] - 0s 1ms/step - loss: 0.2778\n",
      "Epoch 20/100\n",
      "3/3 [==============================] - 0s 1ms/step - loss: 0.2755\n",
      "Epoch 21/100\n",
      "3/3 [==============================] - 0s 1ms/step - loss: 0.2716\n",
      "Epoch 22/100\n",
      "3/3 [==============================] - 0s 1ms/step - loss: 0.2703\n",
      "Epoch 23/100\n",
      "3/3 [==============================] - 0s 1ms/step - loss: 0.2729\n",
      "Epoch 24/100\n",
      "3/3 [==============================] - 0s 1ms/step - loss: 0.2714\n",
      "Epoch 25/100\n",
      "3/3 [==============================] - 0s 932us/step - loss: 0.2744\n",
      "Epoch 26/100\n",
      "3/3 [==============================] - 0s 1ms/step - loss: 0.2709\n",
      "Epoch 27/100\n",
      "3/3 [==============================] - 0s 1ms/step - loss: 0.2752\n",
      "Epoch 28/100\n",
      "3/3 [==============================] - 0s 978us/step - loss: 0.2671\n",
      "Epoch 29/100\n",
      "3/3 [==============================] - 0s 1ms/step - loss: 0.2635\n",
      "Epoch 30/100\n",
      "3/3 [==============================] - 0s 961us/step - loss: 0.2625\n",
      "Epoch 31/100\n",
      "3/3 [==============================] - 0s 1ms/step - loss: 0.2622\n",
      "Epoch 32/100\n",
      "3/3 [==============================] - 0s 921us/step - loss: 0.2611\n",
      "Epoch 33/100\n",
      "3/3 [==============================] - 0s 896us/step - loss: 0.2599\n",
      "Epoch 34/100\n",
      "3/3 [==============================] - 0s 887us/step - loss: 0.2622\n",
      "Epoch 35/100\n",
      "3/3 [==============================] - 0s 1ms/step - loss: 0.2606\n",
      "Epoch 36/100\n",
      "3/3 [==============================] - 0s 962us/step - loss: 0.2597\n",
      "Epoch 37/100\n",
      "3/3 [==============================] - 0s 1ms/step - loss: 0.2583\n",
      "Epoch 38/100\n",
      "3/3 [==============================] - 0s 2ms/step - loss: 0.2580\n",
      "Epoch 39/100\n",
      "3/3 [==============================] - 0s 2ms/step - loss: 0.2577\n",
      "Epoch 40/100\n",
      "3/3 [==============================] - 0s 1ms/step - loss: 0.2550\n",
      "Epoch 41/100\n",
      "3/3 [==============================] - 0s 1ms/step - loss: 0.2551\n",
      "Epoch 42/100\n",
      "3/3 [==============================] - 0s 1ms/step - loss: 0.2591\n",
      "Epoch 43/100\n",
      "3/3 [==============================] - 0s 1ms/step - loss: 0.2536\n",
      "Epoch 44/100\n",
      "3/3 [==============================] - 0s 1ms/step - loss: 0.2566\n",
      "Epoch 45/100\n",
      "3/3 [==============================] - 0s 916us/step - loss: 0.2558\n",
      "Epoch 46/100\n",
      "3/3 [==============================] - 0s 1ms/step - loss: 0.2544\n",
      "Epoch 47/100\n",
      "3/3 [==============================] - 0s 1ms/step - loss: 0.2556\n",
      "Epoch 48/100\n",
      "3/3 [==============================] - 0s 2ms/step - loss: 0.2529\n",
      "Epoch 49/100\n",
      "3/3 [==============================] - 0s 1ms/step - loss: 0.2521\n",
      "Epoch 50/100\n",
      "3/3 [==============================] - 0s 1ms/step - loss: 0.2525\n",
      "Epoch 51/100\n",
      "3/3 [==============================] - 0s 994us/step - loss: 0.2519\n",
      "Epoch 52/100\n",
      "3/3 [==============================] - 0s 961us/step - loss: 0.2521\n",
      "Epoch 53/100\n",
      "3/3 [==============================] - 0s 1ms/step - loss: 0.2512\n",
      "Epoch 54/100\n",
      "3/3 [==============================] - 0s 2ms/step - loss: 0.2498\n",
      "Epoch 55/100\n",
      "3/3 [==============================] - 0s 1ms/step - loss: 0.2523\n",
      "Epoch 56/100\n",
      "3/3 [==============================] - 0s 1ms/step - loss: 0.2521\n",
      "Epoch 57/100\n",
      "3/3 [==============================] - 0s 1ms/step - loss: 0.2486\n",
      "Epoch 58/100\n",
      "3/3 [==============================] - 0s 1ms/step - loss: 0.2471\n",
      "Epoch 59/100\n",
      "3/3 [==============================] - 0s 1ms/step - loss: 0.2466\n",
      "Epoch 60/100\n",
      "3/3 [==============================] - 0s 1ms/step - loss: 0.2460\n",
      "Epoch 61/100\n",
      "3/3 [==============================] - 0s 1ms/step - loss: 0.2509\n",
      "Epoch 62/100\n",
      "3/3 [==============================] - 0s 1ms/step - loss: 0.2468\n",
      "Epoch 63/100\n",
      "3/3 [==============================] - 0s 1ms/step - loss: 0.2460\n",
      "Epoch 64/100\n",
      "3/3 [==============================] - 0s 1ms/step - loss: 0.2462\n",
      "Epoch 65/100\n",
      "3/3 [==============================] - 0s 972us/step - loss: 0.2443\n",
      "Epoch 66/100\n",
      "3/3 [==============================] - 0s 826us/step - loss: 0.2457\n",
      "Epoch 67/100\n",
      "3/3 [==============================] - 0s 1ms/step - loss: 0.2462\n",
      "Epoch 68/100\n",
      "3/3 [==============================] - 0s 1ms/step - loss: 0.2471\n",
      "Epoch 69/100\n",
      "3/3 [==============================] - 0s 1ms/step - loss: 0.2442\n",
      "Epoch 70/100\n",
      "3/3 [==============================] - 0s 936us/step - loss: 0.2454\n",
      "Epoch 71/100\n",
      "3/3 [==============================] - 0s 1ms/step - loss: 0.2442\n",
      "Epoch 72/100\n",
      "3/3 [==============================] - 0s 1ms/step - loss: 0.2433\n",
      "Epoch 73/100\n",
      "3/3 [==============================] - 0s 1ms/step - loss: 0.2427\n",
      "Epoch 74/100\n",
      "3/3 [==============================] - 0s 1ms/step - loss: 0.2422\n",
      "Epoch 75/100\n",
      "3/3 [==============================] - 0s 1ms/step - loss: 0.2403\n",
      "Epoch 76/100\n",
      "3/3 [==============================] - 0s 1ms/step - loss: 0.2414\n",
      "Epoch 77/100\n",
      "3/3 [==============================] - 0s 1ms/step - loss: 0.2458\n",
      "Epoch 78/100\n",
      "3/3 [==============================] - 0s 967us/step - loss: 0.2444\n",
      "Epoch 79/100\n",
      "3/3 [==============================] - 0s 1ms/step - loss: 0.2432\n",
      "Epoch 80/100\n",
      "3/3 [==============================] - 0s 1ms/step - loss: 0.2399\n",
      "Epoch 81/100\n",
      "3/3 [==============================] - 0s 1ms/step - loss: 0.2381\n",
      "Epoch 82/100\n",
      "3/3 [==============================] - 0s 1ms/step - loss: 0.2397\n",
      "Epoch 83/100\n",
      "3/3 [==============================] - 0s 898us/step - loss: 0.2366\n",
      "Epoch 84/100\n",
      "3/3 [==============================] - 0s 899us/step - loss: 0.2386\n",
      "Epoch 85/100\n",
      "3/3 [==============================] - 0s 1ms/step - loss: 0.2378\n",
      "Epoch 86/100\n",
      "3/3 [==============================] - 0s 1ms/step - loss: 0.2389\n",
      "Epoch 87/100\n",
      "3/3 [==============================] - 0s 859us/step - loss: 0.2384\n",
      "Epoch 88/100\n",
      "3/3 [==============================] - 0s 886us/step - loss: 0.2355\n",
      "Epoch 89/100\n",
      "3/3 [==============================] - 0s 924us/step - loss: 0.2353\n",
      "Epoch 90/100\n",
      "3/3 [==============================] - 0s 1ms/step - loss: 0.2365\n",
      "Epoch 91/100\n",
      "3/3 [==============================] - 0s 1ms/step - loss: 0.2358\n",
      "Epoch 92/100\n",
      "3/3 [==============================] - 0s 1ms/step - loss: 0.2344\n",
      "Epoch 93/100\n",
      "3/3 [==============================] - 0s 1ms/step - loss: 0.2352\n",
      "Epoch 94/100\n",
      "3/3 [==============================] - 0s 922us/step - loss: 0.2353\n",
      "Epoch 95/100\n",
      "3/3 [==============================] - 0s 1ms/step - loss: 0.2349\n",
      "Epoch 96/100\n",
      "3/3 [==============================] - 0s 916us/step - loss: 0.2371\n",
      "Epoch 97/100\n",
      "3/3 [==============================] - 0s 1ms/step - loss: 0.2332\n",
      "Epoch 98/100\n",
      "3/3 [==============================] - 0s 1ms/step - loss: 0.2369\n",
      "Epoch 99/100\n",
      "3/3 [==============================] - 0s 975us/step - loss: 0.2382\n",
      "Epoch 100/100\n",
      "3/3 [==============================] - 0s 897us/step - loss: 0.2343\n"
     ]
    },
    {
     "data": {
      "text/plain": [
       "<tensorflow.python.keras.callbacks.History at 0x163fb1bd0>"
      ]
     },
     "execution_count": 35,
     "metadata": {},
     "output_type": "execute_result"
    }
   ],
   "source": [
    "early_stop = EarlyStopping(monitor = 'val_loss', patience = 1)\n",
    "model.fit(\n",
    "    x = X_train.to_numpy().astype('float32'), # float32 to save memory and runtime; we dont need 64 bits anyway\n",
    "    y = y_train.to_numpy().astype('float32'), \n",
    "    verbose = 1, # 0 if you dont want to see the print out\n",
    "    epochs = 100, # number of training intervals \n",
    "    # callbacks = [early_stop], # cant used validation set to have an educated stop due to data set being too small :(\n",
    "    # validation_data=(X_test.astype('float32'), y_test.astype('float32')), # data too small to use as a validator\n",
    ")"
   ]
  },
  {
   "cell_type": "markdown",
   "metadata": {},
   "source": [
    "# Check how well your model was built"
   ]
  },
  {
   "cell_type": "code",
   "execution_count": 36,
   "metadata": {},
   "outputs": [
    {
     "data": {
      "text/plain": [
       "<matplotlib.axes._subplots.AxesSubplot at 0x164e1f750>"
      ]
     },
     "execution_count": 36,
     "metadata": {},
     "output_type": "execute_result"
    },
    {
     "data": {
      "image/png": "[encoded data removed]",
      "text/plain": [
       "<Figure size 432x288 with 1 Axes>"
      ]
     },
     "metadata": {
      "needs_background": "light"
     },
     "output_type": "display_data"
    }
   ],
   "source": [
    "loss = pd.DataFrame(model.history.history)\n",
    "loss.plot()"
   ]
  },
  {
   "cell_type": "code",
   "execution_count": null,
   "metadata": {},
   "outputs": [],
   "source": [
    "model # Thats exciting! This is also a word of caution that you can make a model from anything. "
   ]
  },
  {
   "cell_type": "markdown",
   "metadata": {},
   "source": [
    "--------"
   ]
  },
  {
   "cell_type": "markdown",
   "metadata": {},
   "source": [
    "# Extra Notes"
   ]
  },
  {
   "cell_type": "code",
   "execution_count": null,
   "metadata": {},
   "outputs": [],
   "source": [
    "from Bio.Seq import Seq\n",
    "from Bio.Alphabet import IUPAC"
   ]
  },
  {
   "cell_type": "markdown",
   "metadata": {},
   "source": [
    "# Creating a BioPython seq from scratch"
   ]
  },
  {
   "cell_type": "code",
   "execution_count": null,
   "metadata": {},
   "outputs": [],
   "source": [
    "seq = Seq('ATGCATGATGATGATGATGATAG', alphabet=IUPAC.Alphabet.single_letter_alphabet)\n",
    "seq"
   ]
  },
  {
   "cell_type": "markdown",
   "metadata": {},
   "source": [
    "## You can create a simple dataframe as such"
   ]
  },
  {
   "cell_type": "code",
   "execution_count": null,
   "metadata": {},
   "outputs": [],
   "source": [
    "pd.DataFrame([{'_seq': seq}])._seq "
   ]
  }
 ],
 "metadata": {
  "kernelspec": {
   "display_name": "Python 3",
   "language": "python",
   "name": "python3"
  },
  "language_info": {
   "codemirror_mode": {
    "name": "ipython",
    "version": 3
   },
   "file_extension": ".py",
   "mimetype": "text/x-python",
   "name": "python",
   "nbconvert_exporter": "python",
   "pygments_lexer": "ipython3",
   "version": "3.7.6"
  }
 },
 "nbformat": 4,
 "nbformat_minor": 4
}
