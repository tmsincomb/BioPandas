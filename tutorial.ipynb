{
 "cells": [
  {
   "cell_type": "code",
   "execution_count": 62,
   "metadata": {},
   "outputs": [],
   "source": [
    "from BioPandas import pandas as pd"
   ]
  },
  {
   "cell_type": "markdown",
   "metadata": {},
   "source": [
    "# Sample files used"
   ]
  },
  {
   "cell_type": "code",
   "execution_count": 65,
   "metadata": {},
   "outputs": [],
   "source": [
    "gbk = 'test-data/GCF_000013425.1.gbk.gz'\n",
    "fasta = 'test-data/random_sequences.fasta.gz'"
   ]
  },
  {
   "cell_type": "markdown",
   "metadata": {},
   "source": [
    "# Fasta to Pandas DataFrame example"
   ]
  },
  {
   "cell_type": "code",
   "execution_count": 66,
   "metadata": {},
   "outputs": [
    {
     "data": {
      "text/html": [
       "<div>\n",
       "<style scoped>\n",
       "    .dataframe tbody tr th:only-of-type {\n",
       "        vertical-align: middle;\n",
       "    }\n",
       "\n",
       "    .dataframe tbody tr th {\n",
       "        vertical-align: top;\n",
       "    }\n",
       "\n",
       "    .dataframe thead th {\n",
       "        text-align: right;\n",
       "    }\n",
       "</style>\n",
       "<table border=\"1\" class=\"dataframe\">\n",
       "  <thead>\n",
       "    <tr style=\"text-align: right;\">\n",
       "      <th></th>\n",
       "      <th>_per_letter_annotations</th>\n",
       "      <th>_seq</th>\n",
       "      <th>annotations</th>\n",
       "      <th>dbxrefs</th>\n",
       "      <th>description</th>\n",
       "      <th>features</th>\n",
       "      <th>id</th>\n",
       "      <th>name</th>\n",
       "    </tr>\n",
       "  </thead>\n",
       "  <tbody>\n",
       "    <tr>\n",
       "      <th>0</th>\n",
       "      <td>{}</td>\n",
       "      <td>(C, G, A, T, A, T, T, C, G, A, T, C, C, G, C, ...</td>\n",
       "      <td>{}</td>\n",
       "      <td>[]</td>\n",
       "      <td>FWIRNKE01DKIF6 rank=0000177 x=1346.0 y=2772.0 ...</td>\n",
       "      <td>[]</td>\n",
       "      <td>FWIRNKE01DKIF6</td>\n",
       "      <td>FWIRNKE01DKIF6</td>\n",
       "    </tr>\n",
       "    <tr>\n",
       "      <th>1</th>\n",
       "      <td>{}</td>\n",
       "      <td>(G, C, G, A, G, C, A, G, C, A, A, T, C, A, T, ...</td>\n",
       "      <td>{}</td>\n",
       "      <td>[]</td>\n",
       "      <td>FWIRNKE01CDBE3 rank=0000320 x=854.0 y=2685.0 l...</td>\n",
       "      <td>[]</td>\n",
       "      <td>FWIRNKE01CDBE3</td>\n",
       "      <td>FWIRNKE01CDBE3</td>\n",
       "    </tr>\n",
       "    <tr>\n",
       "      <th>2</th>\n",
       "      <td>{}</td>\n",
       "      <td>(C, G, A, G, C, A, G, C, A, C, A, T, C, A, T, ...</td>\n",
       "      <td>{}</td>\n",
       "      <td>[]</td>\n",
       "      <td>FWIRNKE01BKZJJ rank=0000535 x=531.0 y=3933.0 l...</td>\n",
       "      <td>[]</td>\n",
       "      <td>FWIRNKE01BKZJJ</td>\n",
       "      <td>FWIRNKE01BKZJJ</td>\n",
       "    </tr>\n",
       "  </tbody>\n",
       "</table>\n",
       "</div>"
      ],
      "text/plain": [
       "  _per_letter_annotations                                               _seq  \\\n",
       "0                      {}  (C, G, A, T, A, T, T, C, G, A, T, C, C, G, C, ...   \n",
       "1                      {}  (G, C, G, A, G, C, A, G, C, A, A, T, C, A, T, ...   \n",
       "2                      {}  (C, G, A, G, C, A, G, C, A, C, A, T, C, A, T, ...   \n",
       "\n",
       "  annotations dbxrefs                                        description  \\\n",
       "0          {}      []  FWIRNKE01DKIF6 rank=0000177 x=1346.0 y=2772.0 ...   \n",
       "1          {}      []  FWIRNKE01CDBE3 rank=0000320 x=854.0 y=2685.0 l...   \n",
       "2          {}      []  FWIRNKE01BKZJJ rank=0000535 x=531.0 y=3933.0 l...   \n",
       "\n",
       "  features              id            name  \n",
       "0       []  FWIRNKE01DKIF6  FWIRNKE01DKIF6  \n",
       "1       []  FWIRNKE01CDBE3  FWIRNKE01CDBE3  \n",
       "2       []  FWIRNKE01BKZJJ  FWIRNKE01BKZJJ  "
      ]
     },
     "execution_count": 66,
     "metadata": {},
     "output_type": "execute_result"
    }
   ],
   "source": [
    "fasta_df = pd.read_seq(fasta, format='fasta')\n",
    "fasta_df.head(3)"
   ]
  },
  {
   "cell_type": "markdown",
   "metadata": {},
   "source": [
    "# Search description with little effort!"
   ]
  },
  {
   "cell_type": "code",
   "execution_count": 69,
   "metadata": {},
   "outputs": [
    {
     "data": {
      "text/html": [
       "<div>\n",
       "<style scoped>\n",
       "    .dataframe tbody tr th:only-of-type {\n",
       "        vertical-align: middle;\n",
       "    }\n",
       "\n",
       "    .dataframe tbody tr th {\n",
       "        vertical-align: top;\n",
       "    }\n",
       "\n",
       "    .dataframe thead th {\n",
       "        text-align: right;\n",
       "    }\n",
       "</style>\n",
       "<table border=\"1\" class=\"dataframe\">\n",
       "  <thead>\n",
       "    <tr style=\"text-align: right;\">\n",
       "      <th></th>\n",
       "      <th>_per_letter_annotations</th>\n",
       "      <th>_seq</th>\n",
       "      <th>annotations</th>\n",
       "      <th>dbxrefs</th>\n",
       "      <th>description</th>\n",
       "      <th>features</th>\n",
       "      <th>id</th>\n",
       "      <th>name</th>\n",
       "    </tr>\n",
       "  </thead>\n",
       "  <tbody>\n",
       "    <tr>\n",
       "      <th>0</th>\n",
       "      <td>{}</td>\n",
       "      <td>(C, G, A, T, A, T, T, C, G, A, T, C, C, G, C, ...</td>\n",
       "      <td>{}</td>\n",
       "      <td>[]</td>\n",
       "      <td>FWIRNKE01DKIF6 rank=0000177 x=1346.0 y=2772.0 ...</td>\n",
       "      <td>[]</td>\n",
       "      <td>FWIRNKE01DKIF6</td>\n",
       "      <td>FWIRNKE01DKIF6</td>\n",
       "    </tr>\n",
       "  </tbody>\n",
       "</table>\n",
       "</div>"
      ],
      "text/plain": [
       "  _per_letter_annotations                                               _seq  \\\n",
       "0                      {}  (C, G, A, T, A, T, T, C, G, A, T, C, C, G, C, ...   \n",
       "\n",
       "  annotations dbxrefs                                        description  \\\n",
       "0          {}      []  FWIRNKE01DKIF6 rank=0000177 x=1346.0 y=2772.0 ...   \n",
       "\n",
       "  features              id            name  \n",
       "0       []  FWIRNKE01DKIF6  FWIRNKE01DKIF6  "
      ]
     },
     "execution_count": 69,
     "metadata": {},
     "output_type": "execute_result"
    }
   ],
   "source": [
    "# I want all ranks of a certain number \n",
    "fasta_df[fasta_df['description'].str.contains('rank=0000177')]"
   ]
  },
  {
   "cell_type": "markdown",
   "metadata": {},
   "source": [
    "# GenBank to Pandas DataFrame example"
   ]
  },
  {
   "cell_type": "code",
   "execution_count": 68,
   "metadata": {},
   "outputs": [
    {
     "data": {
      "text/html": [
       "<div>\n",
       "<style scoped>\n",
       "    .dataframe tbody tr th:only-of-type {\n",
       "        vertical-align: middle;\n",
       "    }\n",
       "\n",
       "    .dataframe tbody tr th {\n",
       "        vertical-align: top;\n",
       "    }\n",
       "\n",
       "    .dataframe thead th {\n",
       "        text-align: right;\n",
       "    }\n",
       "</style>\n",
       "<table border=\"1\" class=\"dataframe\">\n",
       "  <thead>\n",
       "    <tr style=\"text-align: right;\">\n",
       "      <th></th>\n",
       "      <th>EC_number</th>\n",
       "      <th>_per_letter_annotations</th>\n",
       "      <th>_seq</th>\n",
       "      <th>annotations</th>\n",
       "      <th>codon_start</th>\n",
       "      <th>db_xref</th>\n",
       "      <th>dbxrefs</th>\n",
       "      <th>description</th>\n",
       "      <th>experiment</th>\n",
       "      <th>gene</th>\n",
       "      <th>...</th>\n",
       "      <th>organism</th>\n",
       "      <th>product</th>\n",
       "      <th>protein_id</th>\n",
       "      <th>pseudo</th>\n",
       "      <th>pseudogene</th>\n",
       "      <th>strain</th>\n",
       "      <th>sub_species</th>\n",
       "      <th>transl_table</th>\n",
       "      <th>translation</th>\n",
       "      <th>type</th>\n",
       "    </tr>\n",
       "  </thead>\n",
       "  <tbody>\n",
       "    <tr>\n",
       "      <th>0</th>\n",
       "      <td>NaN</td>\n",
       "      <td>{}</td>\n",
       "      <td>(C, G, A, T, T, A, A, A, G, A, T, A, G, A, A, ...</td>\n",
       "      <td>{'molecule_type': 'DNA', 'topology': 'circular...</td>\n",
       "      <td>NaN</td>\n",
       "      <td>[taxon:93061]</td>\n",
       "      <td>[BioProject:PRJNA57795, Assembly:GCF_000013425.1]</td>\n",
       "      <td>Staphylococcus aureus subsp. aureus NCTC 8325 ...</td>\n",
       "      <td>NaN</td>\n",
       "      <td>NaN</td>\n",
       "      <td>...</td>\n",
       "      <td>[Staphylococcus aureus subsp. aureus NCTC 8325]</td>\n",
       "      <td>NaN</td>\n",
       "      <td>NaN</td>\n",
       "      <td>NaN</td>\n",
       "      <td>NaN</td>\n",
       "      <td>[NCTC 8325]</td>\n",
       "      <td>[aureus]</td>\n",
       "      <td>NaN</td>\n",
       "      <td>NaN</td>\n",
       "      <td>source</td>\n",
       "    </tr>\n",
       "    <tr>\n",
       "      <th>1</th>\n",
       "      <td>NaN</td>\n",
       "      <td>{}</td>\n",
       "      <td>(C, G, A, T, T, A, A, A, G, A, T, A, G, A, A, ...</td>\n",
       "      <td>{'molecule_type': 'DNA', 'topology': 'circular...</td>\n",
       "      <td>NaN</td>\n",
       "      <td>[GeneID:3919798]</td>\n",
       "      <td>[BioProject:PRJNA57795, Assembly:GCF_000013425.1]</td>\n",
       "      <td>Staphylococcus aureus subsp. aureus NCTC 8325 ...</td>\n",
       "      <td>NaN</td>\n",
       "      <td>[dnaA]</td>\n",
       "      <td>...</td>\n",
       "      <td>NaN</td>\n",
       "      <td>NaN</td>\n",
       "      <td>NaN</td>\n",
       "      <td>NaN</td>\n",
       "      <td>NaN</td>\n",
       "      <td>NaN</td>\n",
       "      <td>NaN</td>\n",
       "      <td>NaN</td>\n",
       "      <td>NaN</td>\n",
       "      <td>gene</td>\n",
       "    </tr>\n",
       "    <tr>\n",
       "      <th>2</th>\n",
       "      <td>NaN</td>\n",
       "      <td>{}</td>\n",
       "      <td>(C, G, A, T, T, A, A, A, G, A, T, A, G, A, A, ...</td>\n",
       "      <td>{'molecule_type': 'DNA', 'topology': 'circular...</td>\n",
       "      <td>[1]</td>\n",
       "      <td>[GeneID:3919798]</td>\n",
       "      <td>[BioProject:PRJNA57795, Assembly:GCF_000013425.1]</td>\n",
       "      <td>Staphylococcus aureus subsp. aureus NCTC 8325 ...</td>\n",
       "      <td>NaN</td>\n",
       "      <td>[dnaA]</td>\n",
       "      <td>...</td>\n",
       "      <td>NaN</td>\n",
       "      <td>[chromosomal replication initiation protein]</td>\n",
       "      <td>[YP_498609.1]</td>\n",
       "      <td>NaN</td>\n",
       "      <td>NaN</td>\n",
       "      <td>NaN</td>\n",
       "      <td>NaN</td>\n",
       "      <td>[11]</td>\n",
       "      <td>[MSEKEIWEKVLEIAQEKLSAVSYSTFLKDTELYTIKDGEAIVLSS...</td>\n",
       "      <td>CDS</td>\n",
       "    </tr>\n",
       "  </tbody>\n",
       "</table>\n",
       "<p>3 rows × 27 columns</p>\n",
       "</div>"
      ],
      "text/plain": [
       "  EC_number _per_letter_annotations  \\\n",
       "0       NaN                      {}   \n",
       "1       NaN                      {}   \n",
       "2       NaN                      {}   \n",
       "\n",
       "                                                _seq  \\\n",
       "0  (C, G, A, T, T, A, A, A, G, A, T, A, G, A, A, ...   \n",
       "1  (C, G, A, T, T, A, A, A, G, A, T, A, G, A, A, ...   \n",
       "2  (C, G, A, T, T, A, A, A, G, A, T, A, G, A, A, ...   \n",
       "\n",
       "                                         annotations codon_start  \\\n",
       "0  {'molecule_type': 'DNA', 'topology': 'circular...         NaN   \n",
       "1  {'molecule_type': 'DNA', 'topology': 'circular...         NaN   \n",
       "2  {'molecule_type': 'DNA', 'topology': 'circular...         [1]   \n",
       "\n",
       "            db_xref                                            dbxrefs  \\\n",
       "0     [taxon:93061]  [BioProject:PRJNA57795, Assembly:GCF_000013425.1]   \n",
       "1  [GeneID:3919798]  [BioProject:PRJNA57795, Assembly:GCF_000013425.1]   \n",
       "2  [GeneID:3919798]  [BioProject:PRJNA57795, Assembly:GCF_000013425.1]   \n",
       "\n",
       "                                         description experiment    gene  ...  \\\n",
       "0  Staphylococcus aureus subsp. aureus NCTC 8325 ...        NaN     NaN  ...   \n",
       "1  Staphylococcus aureus subsp. aureus NCTC 8325 ...        NaN  [dnaA]  ...   \n",
       "2  Staphylococcus aureus subsp. aureus NCTC 8325 ...        NaN  [dnaA]  ...   \n",
       "\n",
       "                                          organism  \\\n",
       "0  [Staphylococcus aureus subsp. aureus NCTC 8325]   \n",
       "1                                              NaN   \n",
       "2                                              NaN   \n",
       "\n",
       "                                        product     protein_id pseudo  \\\n",
       "0                                           NaN            NaN    NaN   \n",
       "1                                           NaN            NaN    NaN   \n",
       "2  [chromosomal replication initiation protein]  [YP_498609.1]    NaN   \n",
       "\n",
       "  pseudogene       strain sub_species transl_table  \\\n",
       "0        NaN  [NCTC 8325]    [aureus]          NaN   \n",
       "1        NaN          NaN         NaN          NaN   \n",
       "2        NaN          NaN         NaN         [11]   \n",
       "\n",
       "                                         translation    type  \n",
       "0                                                NaN  source  \n",
       "1                                                NaN    gene  \n",
       "2  [MSEKEIWEKVLEIAQEKLSAVSYSTFLKDTELYTIKDGEAIVLSS...     CDS  \n",
       "\n",
       "[3 rows x 27 columns]"
      ]
     },
     "execution_count": 68,
     "metadata": {},
     "output_type": "execute_result"
    }
   ],
   "source": [
    "gbk_df = pd.read_seq(gbk, format='genbank')\n",
    "gbk_df.head(3)"
   ]
  },
  {
   "cell_type": "markdown",
   "metadata": {},
   "source": [
    "# See all the possible columns of meta data"
   ]
  },
  {
   "cell_type": "code",
   "execution_count": 58,
   "metadata": {},
   "outputs": [
    {
     "data": {
      "text/plain": [
       "Index(['EC_number', '_per_letter_annotations', '_seq', 'annotations',\n",
       "       'codon_start', 'db_xref', 'dbxrefs', 'description', 'experiment',\n",
       "       'gene', 'gene_synonym', 'id', 'location', 'locus_tag', 'mol_type',\n",
       "       'name', 'note', 'organism', 'product', 'protein_id', 'pseudo',\n",
       "       'pseudogene', 'strain', 'sub_species', 'transl_table', 'translation',\n",
       "       'type'],\n",
       "      dtype='object')"
      ]
     },
     "execution_count": 58,
     "metadata": {},
     "output_type": "execute_result"
    }
   ],
   "source": [
    "gbk_df.columns"
   ]
  },
  {
   "cell_type": "markdown",
   "metadata": {},
   "source": [
    "# Seach for only rows of type CDS"
   ]
  },
  {
   "cell_type": "code",
   "execution_count": 72,
   "metadata": {},
   "outputs": [
    {
     "name": "stdout",
     "output_type": "stream",
     "text": [
      "Genome has CDS count: (2767, 27)\n",
      "Genome has GENE count: (2872, 27)\n"
     ]
    }
   ],
   "source": [
    "cds = gbk_df[gbk_df.type == 'CDS']\n",
    "gene = gbk_df[gbk_df.type == 'gene']\n",
    "print('Genome has CDS count:', cds.shape)\n",
    "print('Genome has GENE count:', gene.shape)"
   ]
  },
  {
   "cell_type": "code",
   "execution_count": 74,
   "metadata": {},
   "outputs": [
    {
     "data": {
      "text/html": [
       "<div>\n",
       "<style scoped>\n",
       "    .dataframe tbody tr th:only-of-type {\n",
       "        vertical-align: middle;\n",
       "    }\n",
       "\n",
       "    .dataframe tbody tr th {\n",
       "        vertical-align: top;\n",
       "    }\n",
       "\n",
       "    .dataframe thead th {\n",
       "        text-align: right;\n",
       "    }\n",
       "</style>\n",
       "<table border=\"1\" class=\"dataframe\">\n",
       "  <thead>\n",
       "    <tr style=\"text-align: right;\">\n",
       "      <th></th>\n",
       "      <th>EC_number</th>\n",
       "      <th>_per_letter_annotations</th>\n",
       "      <th>_seq</th>\n",
       "      <th>annotations</th>\n",
       "      <th>codon_start</th>\n",
       "      <th>db_xref</th>\n",
       "      <th>dbxrefs</th>\n",
       "      <th>description</th>\n",
       "      <th>experiment</th>\n",
       "      <th>gene</th>\n",
       "      <th>...</th>\n",
       "      <th>organism</th>\n",
       "      <th>product</th>\n",
       "      <th>protein_id</th>\n",
       "      <th>pseudo</th>\n",
       "      <th>pseudogene</th>\n",
       "      <th>strain</th>\n",
       "      <th>sub_species</th>\n",
       "      <th>transl_table</th>\n",
       "      <th>translation</th>\n",
       "      <th>type</th>\n",
       "    </tr>\n",
       "  </thead>\n",
       "  <tbody>\n",
       "    <tr>\n",
       "      <th>2</th>\n",
       "      <td>NaN</td>\n",
       "      <td>{}</td>\n",
       "      <td>(C, G, A, T, T, A, A, A, G, A, T, A, G, A, A, ...</td>\n",
       "      <td>{'molecule_type': 'DNA', 'topology': 'circular...</td>\n",
       "      <td>[1]</td>\n",
       "      <td>[GeneID:3919798]</td>\n",
       "      <td>[BioProject:PRJNA57795, Assembly:GCF_000013425.1]</td>\n",
       "      <td>Staphylococcus aureus subsp. aureus NCTC 8325 ...</td>\n",
       "      <td>NaN</td>\n",
       "      <td>[dnaA]</td>\n",
       "      <td>...</td>\n",
       "      <td>NaN</td>\n",
       "      <td>[chromosomal replication initiation protein]</td>\n",
       "      <td>[YP_498609.1]</td>\n",
       "      <td>NaN</td>\n",
       "      <td>NaN</td>\n",
       "      <td>NaN</td>\n",
       "      <td>NaN</td>\n",
       "      <td>[11]</td>\n",
       "      <td>[MSEKEIWEKVLEIAQEKLSAVSYSTFLKDTELYTIKDGEAIVLSS...</td>\n",
       "      <td>CDS</td>\n",
       "    </tr>\n",
       "    <tr>\n",
       "      <th>4</th>\n",
       "      <td>[2.7.7.7]</td>\n",
       "      <td>{}</td>\n",
       "      <td>(C, G, A, T, T, A, A, A, G, A, T, A, G, A, A, ...</td>\n",
       "      <td>{'molecule_type': 'DNA', 'topology': 'circular...</td>\n",
       "      <td>[1]</td>\n",
       "      <td>[GeneID:3919799]</td>\n",
       "      <td>[BioProject:PRJNA57795, Assembly:GCF_000013425.1]</td>\n",
       "      <td>Staphylococcus aureus subsp. aureus NCTC 8325 ...</td>\n",
       "      <td>NaN</td>\n",
       "      <td>NaN</td>\n",
       "      <td>...</td>\n",
       "      <td>NaN</td>\n",
       "      <td>[DNA polymerase III subunit beta]</td>\n",
       "      <td>[YP_498610.1]</td>\n",
       "      <td>NaN</td>\n",
       "      <td>NaN</td>\n",
       "      <td>NaN</td>\n",
       "      <td>NaN</td>\n",
       "      <td>[11]</td>\n",
       "      <td>[MMEFTIKRDYFITQLNDTLKAISPRTTLPILTGIKIDAKEHEVIL...</td>\n",
       "      <td>CDS</td>\n",
       "    </tr>\n",
       "    <tr>\n",
       "      <th>6</th>\n",
       "      <td>NaN</td>\n",
       "      <td>{}</td>\n",
       "      <td>(C, G, A, T, T, A, A, A, G, A, T, A, G, A, A, ...</td>\n",
       "      <td>{'molecule_type': 'DNA', 'topology': 'circular...</td>\n",
       "      <td>[1]</td>\n",
       "      <td>[GeneID:3919176]</td>\n",
       "      <td>[BioProject:PRJNA57795, Assembly:GCF_000013425.1]</td>\n",
       "      <td>Staphylococcus aureus subsp. aureus NCTC 8325 ...</td>\n",
       "      <td>NaN</td>\n",
       "      <td>NaN</td>\n",
       "      <td>...</td>\n",
       "      <td>NaN</td>\n",
       "      <td>[hypothetical protein]</td>\n",
       "      <td>[YP_498611.1]</td>\n",
       "      <td>NaN</td>\n",
       "      <td>NaN</td>\n",
       "      <td>NaN</td>\n",
       "      <td>NaN</td>\n",
       "      <td>[11]</td>\n",
       "      <td>[MIILVQEVVVEGDINLGQFLKTEGIIESGGQAKWFLQDVEVLING...</td>\n",
       "      <td>CDS</td>\n",
       "    </tr>\n",
       "  </tbody>\n",
       "</table>\n",
       "<p>3 rows × 27 columns</p>\n",
       "</div>"
      ],
      "text/plain": [
       "   EC_number _per_letter_annotations  \\\n",
       "2        NaN                      {}   \n",
       "4  [2.7.7.7]                      {}   \n",
       "6        NaN                      {}   \n",
       "\n",
       "                                                _seq  \\\n",
       "2  (C, G, A, T, T, A, A, A, G, A, T, A, G, A, A, ...   \n",
       "4  (C, G, A, T, T, A, A, A, G, A, T, A, G, A, A, ...   \n",
       "6  (C, G, A, T, T, A, A, A, G, A, T, A, G, A, A, ...   \n",
       "\n",
       "                                         annotations codon_start  \\\n",
       "2  {'molecule_type': 'DNA', 'topology': 'circular...         [1]   \n",
       "4  {'molecule_type': 'DNA', 'topology': 'circular...         [1]   \n",
       "6  {'molecule_type': 'DNA', 'topology': 'circular...         [1]   \n",
       "\n",
       "            db_xref                                            dbxrefs  \\\n",
       "2  [GeneID:3919798]  [BioProject:PRJNA57795, Assembly:GCF_000013425.1]   \n",
       "4  [GeneID:3919799]  [BioProject:PRJNA57795, Assembly:GCF_000013425.1]   \n",
       "6  [GeneID:3919176]  [BioProject:PRJNA57795, Assembly:GCF_000013425.1]   \n",
       "\n",
       "                                         description experiment    gene  ...  \\\n",
       "2  Staphylococcus aureus subsp. aureus NCTC 8325 ...        NaN  [dnaA]  ...   \n",
       "4  Staphylococcus aureus subsp. aureus NCTC 8325 ...        NaN     NaN  ...   \n",
       "6  Staphylococcus aureus subsp. aureus NCTC 8325 ...        NaN     NaN  ...   \n",
       "\n",
       "  organism                                       product     protein_id  \\\n",
       "2      NaN  [chromosomal replication initiation protein]  [YP_498609.1]   \n",
       "4      NaN             [DNA polymerase III subunit beta]  [YP_498610.1]   \n",
       "6      NaN                        [hypothetical protein]  [YP_498611.1]   \n",
       "\n",
       "  pseudo pseudogene strain sub_species transl_table  \\\n",
       "2    NaN        NaN    NaN         NaN         [11]   \n",
       "4    NaN        NaN    NaN         NaN         [11]   \n",
       "6    NaN        NaN    NaN         NaN         [11]   \n",
       "\n",
       "                                         translation type  \n",
       "2  [MSEKEIWEKVLEIAQEKLSAVSYSTFLKDTELYTIKDGEAIVLSS...  CDS  \n",
       "4  [MMEFTIKRDYFITQLNDTLKAISPRTTLPILTGIKIDAKEHEVIL...  CDS  \n",
       "6  [MIILVQEVVVEGDINLGQFLKTEGIIESGGQAKWFLQDVEVLING...  CDS  \n",
       "\n",
       "[3 rows x 27 columns]"
      ]
     },
     "execution_count": 74,
     "metadata": {},
     "output_type": "execute_result"
    }
   ],
   "source": [
    "cds.head(3)"
   ]
  },
  {
   "cell_type": "markdown",
   "metadata": {},
   "source": [
    "# Better view of the layout for a single row"
   ]
  },
  {
   "cell_type": "code",
   "execution_count": 90,
   "metadata": {},
   "outputs": [
    {
     "data": {
      "text/plain": [
       "[{'EC_number': nan,\n",
       "  '_per_letter_annotations': {},\n",
       "  '_seq': Seq('CGATTAAAGATAGAAATACACGATGCGAGCAATCAAATTTCATAACATCACCAT...TAT', SingleLetterAlphabet()),\n",
       "  'annotations': {'molecule_type': 'DNA',\n",
       "   'topology': 'circular',\n",
       "   'data_file_division': 'CON',\n",
       "   'date': '03-AUG-2016',\n",
       "   'accessions': ['NC_007795'],\n",
       "   'sequence_version': 1,\n",
       "   'keywords': ['RefSeq'],\n",
       "   'source': 'Staphylococcus aureus subsp. aureus NCTC 8325',\n",
       "   'organism': 'Staphylococcus aureus subsp. aureus NCTC 8325',\n",
       "   'taxonomy': ['Bacteria',\n",
       "    'Firmicutes',\n",
       "    'Bacilli',\n",
       "    'Bacillales',\n",
       "    'Staphylococcaceae',\n",
       "    'Staphylococcus'],\n",
       "   'references': [Reference(title='The Staphylococcus aureus NCTC8325 Genome', ...),\n",
       "    Reference(title='Direct Submission', ...),\n",
       "    Reference(title='Direct Submission', ...)],\n",
       "   'comment': 'REVIEWED REFSEQ: This record has been curated by NCBI staff. The\\nreference sequence was derived from CP000253.\\nRefSeq Category: Reference Genome\\n            UPR: UniProt Genome\\nStaphylococcus aureus subsp. aureus NCTC 8325 is available from\\nwww.narsa.net.\\nCOMPLETENESS: full length.',\n",
       "   'contig': 'join(CP000253.1:1..2821361)'},\n",
       "  'codon_start': ['1'],\n",
       "  'db_xref': ['GeneID:3919798'],\n",
       "  'dbxrefs': ['BioProject:PRJNA57795', 'Assembly:GCF_000013425.1'],\n",
       "  'description': 'Staphylococcus aureus subsp. aureus NCTC 8325 chromosome, complete genome',\n",
       "  'experiment': nan,\n",
       "  'gene': ['dnaA'],\n",
       "  'gene_synonym': nan,\n",
       "  'id': 'NC_007795.1',\n",
       "  'location': FeatureLocation(ExactPosition(516), ExactPosition(1878), strand=1),\n",
       "  'locus_tag': ['SAOUHSC_00001'],\n",
       "  'mol_type': nan,\n",
       "  'name': 'NC_007795',\n",
       "  'note': ['binds to the dnaA-box as an ATP-bound complex at the origin of replication during the initiation of chromosomal replication; can also affect transcription of multiple genes including itself.'],\n",
       "  'organism': nan,\n",
       "  'product': ['chromosomal replication initiation protein'],\n",
       "  'protein_id': ['YP_498609.1'],\n",
       "  'pseudo': nan,\n",
       "  'pseudogene': nan,\n",
       "  'strain': nan,\n",
       "  'sub_species': nan,\n",
       "  'transl_table': ['11'],\n",
       "  'translation': ['MSEKEIWEKVLEIAQEKLSAVSYSTFLKDTELYTIKDGEAIVLSSIPFNANWLNQQYAEIIQAILFDVVGYEVKPHFITTEELANYSNNETATPKETTKPSTETTEDNHVLGREQFNAHNTFDTFVIGPGNRFPHAASLAVAEAPAKAYNPLFIYGGVGLGKTHLMHAIGHHVLDNNPDAKVIYTSSEKFTNEFIKSIRDNEGEAFRERYRNIDVLLIDDIQFIQNKVQTQEEFFYTFNELHQNNKQIVISSDRPPKEIAQLEDRLRSRFEWGLIVDITPPDYETRMAILQKKIEEEKLDIPPEALNYIANQIQSNIRELEGALTRLLAYSQLLGKPITTELTAEALKDIIQAPKSKKITIQDIQKIVGQYYNVRIEDFSAKKRTKSIAYPRQIAMYLSRELTDFSLPKIGEEFGGRDHTTVIHAHEKISKDLKEDPIFKQEVENLEKEIRNV'],\n",
       "  'type': 'CDS'}]"
      ]
     },
     "execution_count": 90,
     "metadata": {},
     "output_type": "execute_result"
    }
   ],
   "source": [
    "cds.head(1).to_dict('records')"
   ]
  },
  {
   "cell_type": "markdown",
   "metadata": {},
   "source": [
    "# Scikit-Learn for Machine Learning"
   ]
  },
  {
   "cell_type": "code",
   "execution_count": null,
   "metadata": {},
   "outputs": [],
   "source": []
  },
  {
   "cell_type": "markdown",
   "metadata": {},
   "source": [
    "# Extra Notes"
   ]
  },
  {
   "cell_type": "code",
   "execution_count": 82,
   "metadata": {},
   "outputs": [],
   "source": [
    "from Bio.Seq import Seq\n",
    "from Bio.Alphabet import IUPAC"
   ]
  },
  {
   "cell_type": "markdown",
   "metadata": {},
   "source": [
    "# Creating a BioPython seq from scratch"
   ]
  },
  {
   "cell_type": "code",
   "execution_count": 87,
   "metadata": {},
   "outputs": [
    {
     "data": {
      "text/plain": [
       "Seq('ATGCATGATGATGATGATGATAG', SingleLetterAlphabet())"
      ]
     },
     "execution_count": 87,
     "metadata": {},
     "output_type": "execute_result"
    }
   ],
   "source": [
    "seq = Seq('ATGCATGATGATGATGATGATAG', alphabet=IUPAC.Alphabet.single_letter_alphabet)\n",
    "seq"
   ]
  },
  {
   "cell_type": "markdown",
   "metadata": {},
   "source": [
    "## You can create a dataframe row as such"
   ]
  },
  {
   "cell_type": "code",
   "execution_count": 89,
   "metadata": {},
   "outputs": [
    {
     "data": {
      "text/plain": [
       "0    (A, T, G, C, A, T, G, A, T, G, A, T, G, A, T, ...\n",
       "Name: _seq, dtype: object"
      ]
     },
     "execution_count": 89,
     "metadata": {},
     "output_type": "execute_result"
    }
   ],
   "source": [
    "pd.DataFrame([{'_seq': seq}])._seq "
   ]
  }
 ],
 "metadata": {
  "kernelspec": {
   "display_name": "Python 3",
   "language": "python",
   "name": "python3"
  },
  "language_info": {
   "codemirror_mode": {
    "name": "ipython",
    "version": 3
   },
   "file_extension": ".py",
   "mimetype": "text/x-python",
   "name": "python",
   "nbconvert_exporter": "python",
   "pygments_lexer": "ipython3",
   "version": "3.7.6"
  }
 },
 "nbformat": 4,
 "nbformat_minor": 4
}
